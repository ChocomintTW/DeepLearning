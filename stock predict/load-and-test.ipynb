{
 "cells": [
  {
   "cell_type": "code",
   "execution_count": 5,
   "metadata": {},
   "outputs": [],
   "source": [
    "# 載入需要的套件\n",
    "import numpy as np\n",
    "import matplotlib.pyplot as plt\n",
    "import yfinance as yf\n",
    "import datetime as dt\n",
    "import tensorflow as tf"
   ]
  },
  {
   "cell_type": "code",
   "execution_count": 6,
   "metadata": {},
   "outputs": [],
   "source": [
    "model = tf.keras.models.load_model(\"stock-predict.model\")"
   ]
  },
  {
   "cell_type": "code",
   "execution_count": 34,
   "metadata": {},
   "outputs": [],
   "source": [
    "import requests\n",
    "from bs4 import BeautifulSoup\n",
    "\n",
    "url = \"https://isin.twse.com.tw/isin/C_public.jsp?strMode=2\"\n",
    "html = requests.get(url).text\n",
    "\n",
    "soup = BeautifulSoup(html, \"html.parser\")"
   ]
  },
  {
   "cell_type": "code",
   "execution_count": 65,
   "metadata": {},
   "outputs": [],
   "source": [
    "trs = soup.find_all(\"tr\")\n",
    "def getName(stock):\n",
    "\tif stock[4:] in [\".TW\", \".TWO\"]:\n",
    "\t\tlst = list(filter(lambda tr: (tr.find(True).text[:4] == stock[:4]), trs))\n",
    "\t\tif lst: return lst[0].find(True).text[5:]\n",
    "\t\telse: return \"Unknown\""
   ]
  },
  {
   "cell_type": "code",
   "execution_count": 67,
   "metadata": {},
   "outputs": [
    {
     "name": "stdout",
     "output_type": "stream",
     "text": [
      "[8277.TWO - Unknown]\n",
      "\n",
      "2023-03-03\n",
      "Close: 10.00\n",
      "\n",
      "Open : 10.17\n",
      "High : 10.31\n",
      "Low  : 9.99\n",
      "Close: 10.10\n"
     ]
    }
   ],
   "source": [
    "stock = \"8277.TWO\"\n",
    "df = yf.download(stock, end=dt.date.today(), progress=False)\n",
    "date = df.index[-1].date()\n",
    "\n",
    "raw = np.array(df)\n",
    "x_test = raw[-100:, :5].reshape(1, 500)\n",
    "y_test = raw[-1, :5]\n",
    "\n",
    "# predict\n",
    "print(f\"[{stock} - {getName(stock)}]\\n\")\n",
    "print(f\"{date}\\nClose: {y_test[3]:.2f}\\n\")\n",
    "pred = model.predict(x_test, verbose=0)[0]\n",
    "print(f\"Open : {pred[0]:.2f}\")\n",
    "print(f\"High : {pred[1]:.2f}\")\n",
    "print(f\"Low  : {pred[2]:.2f}\")\n",
    "print(f\"Close: {pred[3]:.2f}\")"
   ]
  }
 ],
 "metadata": {
  "kernelspec": {
   "display_name": "Python 3",
   "language": "python",
   "name": "python3"
  },
  "language_info": {
   "codemirror_mode": {
    "name": "ipython",
    "version": 3
   },
   "file_extension": ".py",
   "mimetype": "text/x-python",
   "name": "python",
   "nbconvert_exporter": "python",
   "pygments_lexer": "ipython3",
   "version": "3.10.7"
  },
  "orig_nbformat": 4
 },
 "nbformat": 4,
 "nbformat_minor": 2
}
