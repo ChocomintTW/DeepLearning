{
 "cells": [
  {
   "cell_type": "code",
   "execution_count": 1,
   "metadata": {},
   "outputs": [],
   "source": [
    "import requests\n",
    "from bs4 import BeautifulSoup\n",
    "\n",
    "# 發送 GET 請求獲取證券櫃檯買賣中心 (TWSE) 的網頁內容\n",
    "url = \"https://isin.twse.com.tw/isin/C_public.jsp?strMode=2\"\n",
    "html = requests.get(url).text\n",
    "\n",
    "# 使用 BeautifulSoup 解析網頁內容\n",
    "soup = BeautifulSoup(html, \"html.parser\")"
   ]
  },
  {
   "cell_type": "code",
   "execution_count": 35,
   "metadata": {},
   "outputs": [
    {
     "name": "stdout",
     "output_type": "stream",
     "text": [
      "983\n"
     ]
    }
   ],
   "source": [
    "import re\n",
    "\n",
    "lst = []\n",
    "for tr in soup.find_all(\"tr\"):\n",
    "    text = tr.find(True).text\n",
    "    if re.match(\"[0-9]{4}　.*\", text) and tr.select_one(':nth-child(5)').text == \"半導體業\":\n",
    "        lst.append(text[0:4] + \".TW\")\n",
    "\n",
    "print(len(lst))"
   ]
  }
 ],
 "metadata": {
  "kernelspec": {
   "display_name": "Python 3",
   "language": "python",
   "name": "python3"
  },
  "language_info": {
   "codemirror_mode": {
    "name": "ipython",
    "version": 3
   },
   "file_extension": ".py",
   "mimetype": "text/x-python",
   "name": "python",
   "nbconvert_exporter": "python",
   "pygments_lexer": "ipython3",
   "version": "3.10.7"
  },
  "orig_nbformat": 4
 },
 "nbformat": 4,
 "nbformat_minor": 2
}
