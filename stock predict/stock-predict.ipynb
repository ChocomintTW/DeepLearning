{
 "cells": [
  {
   "cell_type": "code",
   "execution_count": 68,
   "metadata": {},
   "outputs": [],
   "source": [
    "class ProgressBar:\n",
    "\tbar_string_fmt = \"\\rProgress: [{}{}] {:.2%} {}/{}\"\n",
    "\tcnt = 0\n",
    "\n",
    "\tdef __init__(self, total, bar_total=20):\n",
    "\t\t# task 的總數\n",
    "\t\tself.total = total\n",
    "\n",
    "\t\t# progress bar 的長度，可依個人喜好設定\n",
    "\t\tself.bar_total = bar_total\n",
    "\n",
    "\tdef update(self, step=1):\n",
    "\t\t# 更新 progress bar 的進度\n",
    "\n",
    "\t\ttotal = self.total\n",
    "\t\tself.cnt += step\n",
    "\n",
    "\t\t# bar 的數量\n",
    "\t\tbar_cnt = (int((self.cnt/total)*self.bar_total))\n",
    "\t\t# 空白的數量\n",
    "\t\tspace_cnt = self.bar_total - bar_cnt\n",
    "\n",
    "\t\tprogress = self.bar_string_fmt.format(\n",
    "\t\t\t\"#\" * bar_cnt,\n",
    "\t\t\t\" \" * space_cnt,\n",
    "\t\t\tself.cnt/total,\n",
    "\t\t\tself.cnt,\n",
    "\t\t\ttotal\n",
    "\t\t)\n",
    "\n",
    "\t\tprint(progress, end=\"\")\n",
    "\t\t\n",
    "\t\tpercent = self.cnt/total\n",
    "\t\t# 100%\n",
    "\t\tif percent == 1:\n",
    "\t\t\tprint(\"\\n\")\n",
    "\t\telif percent >= 1:\n",
    "\t\t\tprint(\"\")"
   ]
  },
  {
   "cell_type": "code",
   "execution_count": 3,
   "metadata": {},
   "outputs": [],
   "source": [
    "# 載入需要的套件\n",
    "import numpy as np\n",
    "import pandas as pd\n",
    "import matplotlib.pyplot as plt\n",
    "import yfinance as yf\n",
    "import datetime as dt\n",
    "import tensorflow as tf\n",
    "import re\n",
    "import os"
   ]
  },
  {
   "cell_type": "code",
   "execution_count": 4,
   "metadata": {},
   "outputs": [],
   "source": [
    "import requests\n",
    "from bs4 import BeautifulSoup\n",
    "\n",
    "# 發送 GET 請求獲取證券櫃檯買賣中心 (TWSE) 的網頁內容\n",
    "url = \"https://isin.twse.com.tw/isin/C_public.jsp?strMode=2\"\n",
    "html = requests.get(url).text\n",
    "\n",
    "# 使用 BeautifulSoup 解析網頁內容\n",
    "soup = BeautifulSoup(html, \"html.parser\")"
   ]
  },
  {
   "cell_type": "code",
   "execution_count": 5,
   "metadata": {},
   "outputs": [],
   "source": [
    "def saveToFile(category, stock):\n",
    "\tpath = \"csv/\" + category + \"/\" + stock + \".csv\"\n",
    "\tif not os.path.isfile(path):\n",
    "\t\tdf = yf.download(stock, end = dt.date.today(), progress=False)\n",
    "\t\tdf.to_csv(path)"
   ]
  },
  {
   "cell_type": "code",
   "execution_count": 46,
   "metadata": {},
   "outputs": [],
   "source": [
    "# https://isin.twse.com.tw/isin/C_public.jsp?strMode=2\n",
    "category_list = [\"半導體業\", \"電機機械\", \"汽車工業\", \"化學工業\", \"生技醫療業\", \"鋼鐵工業\"]"
   ]
  },
  {
   "cell_type": "code",
   "execution_count": null,
   "metadata": {},
   "outputs": [],
   "source": [
    "for category in category_list:\n",
    "\tpath = \"./csv/\" + category\n",
    "\tif not os.path.isdir(path): os.mkdir(path)\n",
    "\n",
    "for tr in soup.find_all(\"tr\")[2:]:\n",
    "\ttext = tr.find(True).text\n",
    "\tif re.match(\"[0-9]{4}　.*\", text):\n",
    "\t\tcategory = tr.select_one(':nth-child(5)').text\n",
    "\t\tif category in category_list:\n",
    "\t\t\tsaveToFile(category, text[0:4] + \".TW\")"
   ]
  },
  {
   "cell_type": "code",
   "execution_count": 44,
   "metadata": {},
   "outputs": [
    {
     "name": "stdout",
     "output_type": "stream",
     "text": [
      "[*********************100%***********************]  1 of 1 completed\n"
     ]
    }
   ],
   "source": [
    "# 取得道瓊指數\n",
    "dji = yf.download(\"^DJI\", end=dt.date.today())\n",
    "\n",
    "def getDJI_LastData(date_str):\n",
    "\tdate = dt.datetime.strptime(date_str, \"%Y-%m-%d\")\n",
    "\tone_day = dt.timedelta(days=1)\n",
    "\n",
    "\twhile True:\n",
    "\t\tdate -= one_day\n",
    "\t\ttry:\n",
    "\t\t\tlast = dji.loc[date]\n",
    "\t\t\tbreak\n",
    "\t\texcept:\n",
    "\t\t\tpass\n",
    "\n",
    "\treturn last\n",
    "\n",
    "# data = dji.loc[date]"
   ]
  },
  {
   "cell_type": "code",
   "execution_count": 63,
   "metadata": {},
   "outputs": [
    {
     "data": {
      "text/plain": [
       "array([33175.390625  , 32999.19140625, 32906.16015625, 32873.46875   ,\n",
       "       32656.36914062, 32780.96875   ])"
      ]
     },
     "execution_count": 63,
     "metadata": {},
     "output_type": "execute_result"
    }
   ],
   "source": [
    "stock = \"^DJI\"\n",
    "saveToFile(\"test\", stock)\n",
    "dji_open = np.loadtxt(\"csv/test/\" + stock + \".csv\", delimiter=\",\", skiprows=1, usecols=(1))\n",
    "dji_open[-1-6:-1]"
   ]
  },
  {
   "cell_type": "code",
   "execution_count": 73,
   "metadata": {},
   "outputs": [
    {
     "name": "stdout",
     "output_type": "stream",
     "text": [
      "Progress: [##############################] 100.00% 262/262\n",
      "\n"
     ]
    }
   ],
   "source": [
    "days = 50\n",
    "\n",
    "x_train = np.empty((0, 5 * days + 1))\n",
    "y_train = np.empty((0, 5))\n",
    "\n",
    "n = 0\n",
    "for c in category_list:\n",
    "\tn += len(list(os.scandir(\"./csv/\" + c)))\n",
    "progress_bar = ProgressBar(n, bar_total=30)\n",
    "\n",
    "for c in category_list:\n",
    "\tfor file in os.scandir(\"./csv/\" + c):\n",
    "\t\tdata = np.loadtxt(file.path, delimiter=\",\", skiprows=1, usecols=(1,2,3,4,5))\n",
    "\n",
    "\t\ty = data[days:, :]\n",
    "\t\tsize = y.shape[0]\n",
    "\n",
    "\t\tx = []\n",
    "\n",
    "\t\tn, m = data.shape\n",
    "\t\tfor i in range(n - days):\n",
    "\t\t\tsub = data[i:i + days,:]\n",
    "\t\t\tx.append(np.concatenate(sub, axis=0))\n",
    "\t\tx = np.array(x).reshape(-1, 5 * days)\n",
    "\t\tx = np.concatenate((x, dji_open[-1 - size:-1].reshape(-1, 1)), axis=1)\n",
    "\n",
    "\t\tx_train = np.concatenate([x_train, x], axis=0)\n",
    "\t\ty_train = np.concatenate([y_train, y], axis=0)\n",
    "\n",
    "\t\tprogress_bar.update()"
   ]
  },
  {
   "cell_type": "code",
   "execution_count": 74,
   "metadata": {},
   "outputs": [
    {
     "data": {
      "text/plain": [
       "(1023708, 251)"
      ]
     },
     "execution_count": 74,
     "metadata": {},
     "output_type": "execute_result"
    }
   ],
   "source": [
    "x_train.shape"
   ]
  },
  {
   "cell_type": "code",
   "execution_count": 75,
   "metadata": {},
   "outputs": [
    {
     "name": "stdout",
     "output_type": "stream",
     "text": [
      "Epoch 1/5\n",
      "31991/31991 [==============================] - 112s 3ms/step - loss: 2.3992 - accuracy: 0.5366\n",
      "Epoch 2/5\n",
      "31991/31991 [==============================] - 109s 3ms/step - loss: 1.3937 - accuracy: 0.7004\n",
      "Epoch 3/5\n",
      "31991/31991 [==============================] - 112s 4ms/step - loss: 1.2556 - accuracy: 0.7369\n",
      "Epoch 4/5\n",
      "31991/31991 [==============================] - 110s 3ms/step - loss: 1.1897 - accuracy: 0.7456\n",
      "Epoch 5/5\n",
      "31991/31991 [==============================] - 122s 4ms/step - loss: 1.1450 - accuracy: 0.7526\n"
     ]
    }
   ],
   "source": [
    "from keras.models import Sequential\n",
    "from keras.layers import Dense\n",
    "act = tf.keras.activations\n",
    "opt = tf.keras.optimizers\n",
    "los = tf.keras.losses\n",
    "\n",
    "model = Sequential()\n",
    "\n",
    "model.add(Dense(300, activation=act.relu))\n",
    "model.add(Dense(100, activation=act.relu))\n",
    "model.add(Dense(100, activation=act.relu))\n",
    "model.add(Dense(80, activation=act.relu))\n",
    "model.add(Dense(5, activation=act.linear))\n",
    "\n",
    "model.compile(optimizer=opt.Adam(), loss=los.MeanAbsoluteError(), metrics=[\"accuracy\"])\n",
    "\n",
    "history = model.fit(x_train, y_train, epochs=5)"
   ]
  },
  {
   "cell_type": "code",
   "execution_count": 81,
   "metadata": {},
   "outputs": [
    {
     "name": "stdout",
     "output_type": "stream",
     "text": [
      "177/177 [==============================] - 1s 3ms/step - loss: 0.3811 - accuracy: 0.8300\n",
      "0.38113269209861755 0.8300248384475708\n"
     ]
    }
   ],
   "source": [
    "stock = \"2303.TW\"\n",
    "saveToFile(\"test\", stock)\n",
    "test_data = np.loadtxt(\"csv/test/\" + stock + \".csv\", delimiter=\",\", skiprows=1, usecols=(1,2,3,4,5))\n",
    "x_test = []\n",
    "\n",
    "n, m = test_data.shape\n",
    "for i in range(n - days):\n",
    "\tsub = test_data[i:i + days,:]\n",
    "\tx_test.append(np.concatenate(sub, axis=0))\n",
    "x_test = np.concatenate((np.array(x_test), dji_open[-1 - n + days:-1].reshape(-1, 1)), axis=1)\n",
    "\n",
    "y_test = test_data[days:, :]\n",
    "\n",
    "val_loss, val_acc = model.evaluate(x_test, y_test)\n",
    "print(val_loss, val_acc)"
   ]
  },
  {
   "cell_type": "code",
   "execution_count": 83,
   "metadata": {},
   "outputs": [
    {
     "name": "stderr",
     "output_type": "stream",
     "text": [
      "WARNING:absl:Found untraced functions such as _update_step_xla while saving (showing 1 of 1). These functions will not be directly callable after loading.\n"
     ]
    },
    {
     "name": "stdout",
     "output_type": "stream",
     "text": [
      "INFO:tensorflow:Assets written to: stock-predict.model\\assets\n"
     ]
    },
    {
     "name": "stderr",
     "output_type": "stream",
     "text": [
      "INFO:tensorflow:Assets written to: stock-predict.model\\assets\n"
     ]
    }
   ],
   "source": [
    "model.save(\"stock-predict.model\")"
   ]
  },
  {
   "cell_type": "code",
   "execution_count": null,
   "metadata": {},
   "outputs": [
    {
     "name": "stdout",
     "output_type": "stream",
     "text": [
      "['A', 'AA', 'AAA', 'AAAU', 'AAC', 'AAC.U', 'AAC.W', 'AAIC', 'AAIC$B', 'AAIC$C', 'AAIN', 'AAM$A', 'AAM$B', 'AAMC', 'AAN', 'AAP', 'AAT', 'AAU', 'AB', 'ABB', 'ABBV', 'ABC', 'ABEQ', 'ABEV', 'ABG', 'ABM', 'ABR', 'ABR$D', 'ABR$E', 'ABR$F', 'ABT', 'AC', 'ACA', 'ACAQ', 'ACAQ.U', 'ACAQ.W', 'ACCO', 'ACEL', 'ACES', 'ACHR', 'ACHR.W', 'ACI', 'ACIO', 'ACM', 'ACN', 'ACP', 'ACP$A', 'ACR', 'ACR$C', 'ACR$D', 'ACRE', 'ACRO', 'ACRO.U', 'ACRO.W', 'ACSI', 'ACTV', 'ACU', 'ACV', 'ACVF', 'ACWV', 'ADC', 'ADC$A', 'ADCT', 'ADEX', 'ADEX.U', 'ADEX.W', 'ADFI', 'ADIV', 'ADM', 'ADME', 'ADNT', 'ADPV', 'ADRT', 'ADRT.U', 'ADT', 'ADX', 'AE', 'AEE', 'AEF', 'AEFC', 'AEG', 'AEL', 'AEL$A', 'AEL$B', 'AEM', 'AEMB', 'AENZ', 'AEO', 'AER', 'AES', 'AESC', 'AESR', 'AEVA', 'AEVA.W', 'AFB', 'AFG', 'AFGB', 'AFGC', 'AFGD', 'AFGE', 'AFIF', 'AFK', 'AFL', 'AFLG', 'AFMC', 'AFSM', 'AFT', 'AFTR', 'AFTR.U', 'AFTR.W', 'AFTY', 'AG', 'AGAC', 'AGAC.U', 'AGCO', 'AGD', 'AGE', 'AGG', 'AGGH', 'AGGY', 'AGI', 'AGIH', 'AGL', 'AGM', 'AGM$C', 'AGM$D', 'AGM$E', 'AGM$F', 'AGM$G', 'AGM.A', 'AGO', 'AGOV', 'AGOX', 'AGQ', 'AGR', 'AGRH', 'AGRO', 'AGS', 'AGTI', 'AGX', 'AGZ', 'AHH', 'AHH$A', 'AHHX', 'AHL$C', 'AHL$D', 'AHL$E', 'AHOY', 'AHT', 'AHT$D', 'AHT$F', 'AHT$G', 'AHT$H', 'AHT$I', 'AHYB', 'AI', 'AIC', 'AIEQ', 'AIF', 'AIG', 'AIG$A', 'AILG', 'AILV', 'AIM', 'AIN', 'AINC', 'AIO', 'AIR', 'AIRC', 'AIRI', 'AIT', 'AIU', 'AIV', 'AIVI', 'AIVL', 'AIZ', 'AIZN', 'AJG', 'AJRD', 'AJX', 'AJXA', 'AKA', 'AKO.A', 'AKO.B', 'AKR', 'AL', 'AL$A', 'ALB', 'ALC', 'ALCC', 'ALE', 'ALEX', 'ALG', 'ALIT', 'ALK', 'ALL', 'ALL$B', 'ALL$G', 'ALL$H', 'ALL$I', 'ALLE', 'ALLG', 'ALLG.W', 'ALLY', 'ALSN', 'ALTG', 'ALTG$A', 'ALTL', 'ALV', 'ALX', 'AM', 'AMAM', 'AMAX', 'AMBC', 'AMBC.W', 'AMBI', 'AMBI.W', 'AMBO', 'AMBP', 'AMBP.W', 'AMC', 'AMCR', 'AME', 'AMG', 'AMH', 'AMH$G', 'AMH$H', 'AMJ', 'AMK', 'AMLP', 'AMN', 'AMNA', 'AMND', 'AMOM', 'AMOV', 'AMP', 'AMPE', 'AMPS', 'AMPX', 'AMPX.W', 'AMPY', 'AMR', 'AMRC', 'AMRX', 'AMS', 'AMT', 'AMTD', 'AMTR', 'AMUB', 'AMWL', 'AMX', 'AMZA', 'AN', 'ANET', 'ANEW', 'ANF', 'ANVS', 'AOA', 'AOD', 'AOK', 'AOM', 'AOMR', 'AON', 'AOR', 'AORT', 'AOS', 'AP', 'AP.W', 'APAM', 'APCA', 'APCA.U', 'APCA.W', 'APD', 'APE', 'APG', 'APGB', 'APGB.U', 'APGB.W', 'APH', 'APLE', 'APO', 'APRN', 'APRT', 'APRW', 'APRZ', 'APT', 'APTV', 'APTV$A', 'AQGX', 'AQN', 'AQNA', 'AQNB', 'AQNU', 'AQUA', 'AR', 'ARB', 'ARC', 'ARCH', 'ARCM', 'ARCO', 'ARDC', 'ARE', 'AREN', 'ARES', 'ARGD', 'ARGO', 'ARGO$A', 'ARGT', 'ARI', 'ARIS', 'ARKF', 'ARKG', 'ARKK', 'ARKQ', 'ARKW', 'ARKX', 'ARL', 'ARLO', 'ARMK', 'ARMP', 'ARMR', 'ARNC', 'AROC', 'ARP', 'ARR', 'ARR$C', 'ARW', 'ASA', 'ASAI', 'ASAN', 'ASB', 'ASB$E', 'ASB$F', 'ASBA', 'ASC', 'ASEA', 'ASG', 'ASGI', 'ASGN', 'ASH', 'ASHR', 'ASHS', 'ASHX', 'ASIX', 'ASM', 'ASPN', 'ASPY', 'ASR', 'ASX', 'ASXC', 'ATAQ', 'ATAQ.U', 'ATCO', 'ATCO$D', 'ATCO$H', 'ATCO$I', 'ATEK', 'ATEK.U', 'ATEK.W', 'ATEN', 'ATEST', 'ATEST.A', 'ATEST.B', 'ATEST.C', 'ATFV', 'ATGE', 'ATH$A', 'ATH$B', 'ATH$C', 'ATH$D', 'ATH$E', 'ATHM', 'ATI', 'ATIP', 'ATIP.W', 'ATKR', 'ATMP', 'ATNM', 'ATO', 'ATR', 'ATTO', 'ATUS', 'AU', 'AUB', 'AUB$A', 'AUD', 'AUGZ', 'AULT', 'AULT$D', 'AUMN', 'AUSF', 'AUST', 'AUY', 'AVA', 'AVAL', 'AVB', 'AVD', 'AVDE', 'AVDV', 'AVEM', 'AVES', 'AVGE', 'AVIE', 'AVIG', 'AVIV', 'AVK', 'AVLV', 'AVMU', 'AVNS', 'AVNT', 'AVRE', 'AVSC', 'AVSD', 'AVSE', 'AVSF', 'AVSU', 'AVTR', 'AVUS', 'AVUV', 'AVY', 'AWAY', 'AWEG', 'AWF', 'AWI', 'AWK', 'AWP', 'AWR', 'AWX', 'AWYX', 'AX', 'AXAC', 'AXAC.R', 'AXAC.W', 'AXL', 'AXP', 'AXR', 'AXS', 'AXS$E', 'AXTA', 'AYI', 'AYX', 'AZEK', 'AZO', 'AZRE', 'AZTD', 'AZUL', 'AZZ', 'B', 'BA', 'BAB', 'BABA', 'BAC', 'BAC$B', 'BAC$E', 'BAC$K', 'BAC$L', 'BAC$M', 'BAC$N', 'BAC$O', 'BAC$P', 'BAC$Q', 'BAC$S', 'BACA', 'BACA.U', 'BAD', 'BAH', 'BAK', 'BAL', 'BALL', 'BALT', 'BALY', 'BAM', 'BANC', 'BAP', 'BAPR', 'BAR', 'BARK', 'BARK.W', 'BATL', 'BATT', 'BAUG', 'BAX', 'BB', 'BBAG', 'BBAI', 'BBAI.W', 'BBAR', 'BBAX', 'BBC', 'BBCA', 'BBCB', 'BBD', 'BBDC', 'BBDO', 'BBEU', 'BBHY', 'BBIN', 'BBJP', 'BBLN', 'BBLU', 'BBMC', 'BBN', 'BBP', 'BBRE', 'BBSA', 'BBSC', 'BBU', 'BBUC', 'BBUS', 'BBVA', 'BBW', 'BBWI', 'BBY', 'BC', 'BC$A', 'BC$B', 'BC$C', 'BCAT', 'BCC', 'BCD', 'BCDF', 'BCE', 'BCH', 'BCI', 'BCIM', 'BCM', 'BCO', 'BCS', 'BCSF', 'BCV', 'BCV$A', 'BCX', 'BDC', 'BDCX', 'BDCZ', 'BDEC', 'BDJ', 'BDL', 'BDN', 'BDRY', 'BDX', 'BDXB', 'BE', 'BECO', 'BEDU', 'BEDZ', 'BEKE', 'BEMB', 'BEN', 'BEP', 'BEP$A', 'BEPC', 'BEPH', 'BEPI', 'BERY', 'BERZ', 'BEST', 'BETZ', 'BF.A', 'BF.B', 'BFAC', 'BFAC.U', 'BFAC.W', 'BFAM', 'BFEB', 'BFH', 'BFIX', 'BFK', 'BFLY', 'BFLY.W', 'BFOR', 'BFS', 'BFS$D', 'BFS$E', 'BFTR', 'BFZ', 'BG', 'BGB', 'BGH', 'BGI', 'BGLD', 'BGR', 'BGS', 'BGSF', 'BGSX', 'BGSX.U', 'BGT', 'BGX', 'BGY', 'BH', 'BH.A', 'BHB', 'BHC', 'BHE', 'BHG', 'BHIL', 'BHIL.W', 'BHK', 'BHLB', 'BHM', 'BHP', 'BHR', 'BHR$B', 'BHR$D', 'BHV', 'BHVN', 'BIBL', 'BIDS', 'BIG', 'BIGZ', 'BIL', 'BILL', 'BILS', 'BIO', 'BIO.B', 'BIP', 'BIP$A', 'BIP$B', 'BIPC', 'BIPH', 'BIPI', 'BIT', 'BITE', 'BITE.U', 'BITE.W', 'BITI', 'BITO', 'BITQ', 'BIV', 'BIZD', 'BJ', 'BJAN', 'BJUL', 'BJUN', 'BK', 'BKAG', 'BKCI', 'BKD', 'BKDT', 'BKE', 'BKEM', 'BKES', 'BKF', 'BKGI', 'BKH', 'BKHY', 'BKI', 'BKIE', 'BKIS', 'BKKT', 'BKKT.W', 'BKLC', 'BKLN', 'BKMC', 'BKN', 'BKSB', 'BKSE', 'BKSY', 'BKSY.W', 'BKT', 'BKTI', 'BKU', 'BKUI', 'BKUS', 'BLCO', 'BLD', 'BLDG', 'BLDR', 'BLE', 'BLES', 'BLHY', 'BLK', 'BLKC', 'BLND', 'BLOK', 'BLUA', 'BLUA.U', 'BLUA.W', 'BLV', 'BLW', 'BLX', 'BMA', 'BMAC', 'BMAC.U', 'BMAC.W', 'BMAR', 'BMAY', 'BME', 'BMED', 'BMEZ', 'BMI', 'BML$G', 'BML$H', 'BML$J', 'BML$L', 'BMN', 'BMO', 'BMTX', 'BMTX.W', 'BMY', 'BN', 'BNDC', 'BNDD', 'BNDI', 'BNE', 'BNED', 'BNGE', 'BNH', 'BNJ', 'BNKD', 'BNKU', 'BNL', 'BNO', 'BNOV', 'BNRE', 'BNS', 'BNY', 'BOAC', 'BOAC.U', 'BOAC.W', 'BOAT', 'BOC', 'BOCT', 'BODY', 'BODY.W', 'BOE', 'BOH', 'BOH$A', 'BOIL', 'BOND', 'BOOT', 'BORR', 'BOSS', 'BOUT', 'BOWL', 'BOX', 'BOXD', 'BOXD.W', 'BOXX', 'BP', 'BPAY', 'BPT', 'BQ', 'BR', 'BRBR', 'BRBS', 'BRC', 'BRCC', 'BRD', 'BRD.U', 'BRD.W', 'BRDG', 'BRDS', 'BRDS.W', 'BRF', 'BRFS', 'BRK.A', 'BRK.B', 'BRKY', 'BRLN', 'BRMK', 'BRN', 'BRO', 'BROS', 'BRSP', 'BRT', 'BRW', 'BRX', 'BRZU', 'BSAC', 'BSAQ', 'BSAQ.U', 'BSAQ.W', 'BSBR', 'BSEA', 'BSEP', 'BSIG', 'BSL', 'BSM', 'BSMX', 'BST', 'BSTP', 'BSTZ', 'BSV', 'BSX', 'BSX$A', 'BTA', 'BTAL', 'BTCM', 'BTE', 'BTEK', 'BTG', 'BTHM', 'BTI', 'BTO', 'BTT', 'BTTR', 'BTU', 'BTZ', 'BUCK', 'BUD', 'BUFB', 'BUFD', 'BUFF', 'BUFG', 'BUFQ', 'BUFR', 'BUFT', 'BUI', 'BUL', 'BULZ', 'BUR', 'BURL', 'BURU', 'BURU.W', 'BUYW', 'BUYZ', 'BUZZ', 'BV', 'BVH', 'BVN', 'BW', 'BW$A', 'BWA', 'BWEB', 'BWG', 'BWNB', 'BWSN', 'BWX', 'BWXT', 'BWZ', 'BX', 'BXC', 'BXMT', 'BXMX', 'BXP', 'BXSL', 'BY', 'BYD', 'BYLD', 'BYM', 'BYN', 'BYN.U', 'BYN.W', 'BYRE', 'BYTE', 'BZH', 'BZQ', 'C', 'C$J', 'C$K', 'C$N', 'CAAP', 'CABO', 'CACI', 'CADE', 'CADE$A', 'CAE', 'CAF', 'CAG', 'CAH', 'CAL', 'CALF', 'CALX', 'CAMX', 'CANE', 'CANF', 'CANG', 'CANO', 'CANO.W', 'CAOS', 'CAPE', 'CAPL', 'CARR', 'CARS', 'CARY', 'CAT', 'CATO', 'CATX', 'CB', 'CBD', 'CBH', 'CBL', 'CBLS', 'CBO', 'CBOE', 'CBON', 'CBRE', 'CBSE', 'CBT', 'CBU', 'CBX', 'CBZ', 'CC', 'CCEL', 'CCF', 'CCI', 'CCJ', 'CCK', 'CCL', 'CCM', 'CCO', 'CCOR', 'CCRD', 'CCRV', 'CCS', 'CCU', 'CCV', 'CCV.U', 'CCV.W', 'CCVI', 'CCVI.U', 'CCVI.W', 'CCZ', 'CDAY', 'CDE', 'CDEI', 'CDR$B', 'CDR$C', 'CDRE', 'CDX', 'CE', 'CEE', 'CEF', 'CEFD', 'CEFS', 'CEI', 'CEIX', 'CELG.R', 'CEM', 'CEMB', 'CEN', 'CEPU', 'CEQP', 'CEQP$', 'CET', 'CEV', 'CEW', 'CF', 'CFCV', 'CFG', 'CFG$D', 'CFG$E', 'CFR', 'CFR$B', 'CGA', 'CGAU', 'CGCP', 'CGDV', 'CGGO', 'CGGR', 'CGMS', 'CGMU', 'CGSD', 'CGUS', 'CGV', 'CGW', 'CGXU', 'CHAA', 'CHAA.U', 'CHAU', 'CHCT', 'CHD', 'CHE', 'CHGG', 'CHGX', 'CHH', 'CHIC', 'CHIE', 'CHIH', 'CHII', 'CHIK', 'CHIM', 'CHIQ', 'CHIR', 'CHIS', 'CHIU', 'CHIX', 'CHMI', 'CHMI$A', 'CHMI$B', 'CHN', 'CHPT', 'CHRA', 'CHRB', 'CHRG', 'CHS', 'CHT', 'CHWY', 'CI', 'CIA', 'CIAN', 'CIB', 'CIEN', 'CIF', 'CIG', 'CIG.C', 'CII', 'CIK', 'CIM', 'CIM$A', 'CIM$B', 'CIM$C', 'CIM$D', 'CINT', 'CIO', 'CIO$A', 'CION', 'CIR', 'CIVI', 'CIX', 'CKX', 'CL', 'CLAA', 'CLAA.U', 'CLAA.W', 'CLB', 'CLBR', 'CLBR.U', 'CLBR.W', 'CLDL', 'CLDT', 'CLDT$A', 'CLF', 'CLH', 'CLIX', 'CLM', 'CLNR', 'CLOI', 'CLOZ', 'CLPR', 'CLS', 'CLSE', 'CLTL', 'CLVT', 'CLVT$A', 'CLW', 'CLX', 'CM', 'CMA', 'CMBS', 'CMC', 'CMCL', 'CMCM', 'CMDY', 'CMF', 'CMG', 'CMI', 'CMP', 'CMRE', 'CMRE$B', 'CMRE$C', 'CMRE$D', 'CMRE$E', 'CMS', 'CMS$B', 'CMS$C', 'CMSA', 'CMSC', 'CMSD', 'CMT', 'CMTG', 'CMU', 'CN', 'CNA', 'CNBS', 'CNC', 'CNDA', 'CNDA.U', 'CNDA.W', 'CNDB', 'CNDB.U', 'CNDB.W', 'CNF', 'CNHI', 'CNI', 'CNK', 'CNM', 'CNMD', 'CNNE', 'CNO', 'CNO$A', 'CNP', 'CNQ', 'CNRG', 'CNS', 'CNX', 'CNXT', 'CNYA', 'CO', 'CODI', 'CODI$A', 'CODI$B', 'CODI$C', 'COE', 'COF', 'COF$I', 'COF$J', 'COF$K', 'COF$L', 'COF$N', 'COHN', 'COHR', 'COLD', 'COM', 'COMB', 'COMP', 'COO', 'COOK', 'COP', 'COPX', 'CORN', 'CORP', 'CORR', 'CORR$A', 'CORS', 'CORS.U', 'CORS.W', 'COTY', 'COUR', 'COW', 'COWZ', 'CP', 'CPA', 'CPAC', 'CPB', 'CPE', 'CPER', 'CPF', 'CPG', 'CPHI', 'CPI', 'CPII', 'CPK', 'CPNG', 'CPRI', 'CPS', 'CPT', 'CPTK', 'CPTK.U', 'CPUH', 'CPUH.U', 'CPUH.W', 'CQP', 'CQQQ', 'CR', 'CRAK', 'CRBG', 'CRBN', 'CRC', 'CRD.A', 'CRD.B', 'CRF', 'CRGY', 'CRH', 'CRI', 'CRIT', 'CRK', 'CRL', 'CRM', 'CRPT', 'CRS', 'CRT', 'CRUZ', 'CRYP', 'CS', 'CSAN', 'CSD', 'CSH', 'CSHI', 'CSL', 'CSM', 'CSR', 'CSR$C', 'CSTA', 'CSTA.U', 'CSTA.W', 'CSTM', 'CSV', 'CTA', 'CTA$A', 'CTA$B', 'CTBB', 'CTDD', 'CTEST', 'CTEST.E', 'CTEST.G', 'CTEST.L', 'CTEST.O', 'CTEST.S', 'CTEST.V', 'CTEX', 'CTGO', 'CTLT', 'CTM', 'CTO', 'CTO$A', 'CTOS', 'CTOS.W', 'CTR', 'CTRA', 'CTRE', 'CTS', 'CTV', 'CTV.W', 'CTVA', 'CUBB', 'CUBE', 'CUBI', 'CUBI$E', 'CUBI$F', 'CUBS', 'CUK', 'CULP', 'CURE', 'CURO', 'CURV', 'CUT', 'CUZ', 'CVAR', 'CVE', 'CVE.W', 'CVEO', 'CVI', 'CVIE', 'CVII', 'CVII.U', 'CVII.W', 'CVLC', 'CVM', 'CVMC', 'CVNA', 'CVR', 'CVS', 'CVSB', 'CVSE', 'CVU', 'CVX', 'CVY', 'CW', 'CWAN', 'CWB', 'CWEB', 'CWEN', 'CWEN.A', 'CWH', 'CWI', 'CWK', 'CWS', 'CWT', 'CX', 'CXAC', 'CXAC.U', 'CXAC.W', 'CXE', 'CXH', 'CXM', 'CXW', 'CYA', 'CYB', 'CYBN', 'CYD', 'CYH', 'CZA', 'CZOO', 'D', 'DAC', 'DAL', 'DALT', 'DAN', 'DAO', 'DAPR', 'DAR', 'DASH', 'DAT', 'DAUG', 'DAVA', 'DB', 'DBA', 'DBAW', 'DBB', 'DBC', 'DBD', 'DBE', 'DBEF', 'DBEH', 'DBEM', 'DBEU', 'DBEZ', 'DBGR', 'DBI', 'DBJA', 'DBJP', 'DBL', 'DBMF', 'DBND', 'DBO', 'DBOC', 'DBP', 'DBRG', 'DBRG$H', 'DBRG$I', 'DBRG$J', 'DC', 'DC.W', 'DCF', 'DCI', 'DCO', 'DCP', 'DCP$B', 'DCP$C', 'DD', 'DDD', 'DDEC', 'DDF', 'DDL', 'DDLS', 'DDM', 'DDS', 'DDT', 'DDWM', 'DE', 'DEA', 'DECK', 'DECT', 'DECW', 'DECZ', 'DEED', 'DEEF', 'DEEP', 'DEF', 'DEFI', 'DEHP', 'DEI', 'DEIF', 'DELL', 'DEM', 'DEN', 'DEO', 'DES', 'DESP', 'DEUS', 'DEW', 'DEX', 'DFAC', 'DFAE', 'DFAI', 'DFAR', 'DFAS', 'DFAT', 'DFAU', 'DFAX', 'DFCF', 'DFE', 'DFEB', 'DFEM', 'DFEN', 'DFEV', 'DFGR', 'DFH', 'DFHY', 'DFIC', 'DFIN', 'DFIP', 'DFIS', 'DFIV', 'DFJ', 'DFLV', 'DFND', 'DFNL', 'DFNM', 'DFNV', 'DFP', 'DFRA', 'DFS', 'DFSB', 'DFSD', 'DFSE', 'DFSI', 'DFSU', 'DFSV', 'DFUS', 'DFUV', 'DG', 'DGIN', 'DGP', 'DGRO', 'DGS', 'DGT', 'DGX', 'DGZ', 'DHF', 'DHI', 'DHR', 'DHR$B', 'DHS', 'DHT', 'DHX', 'DHY', 'DIA', 'DIAL', 'DIAX', 'DIEM', 'DIG', 'DIHP', 'DIM', 'DIN', 'DINO', 'DINT', 'DIP', 'DIS', 'DISV', 'DIT', 'DIV', 'DIVB', 'DIVI', 'DIVO', 'DIVS', 'DIVZ', 'DJAN', 'DJCB', 'DJD', 'DJIA', 'DJP', 'DJUL', 'DJUN', 'DK', 'DKL', 'DKRB', 'DKS', 'DLA', 'DLB', 'DLN', 'DLNG', 'DLNG$A', 'DLNG$B', 'DLR', 'DLR$J', 'DLR$K', 'DLR$L', 'DLS', 'DLX', 'DLY', 'DM', 'DMA', 'DMAR', 'DMAY', 'DMB', 'DMCY', 'DMDV', 'DMF', 'DMO', 'DMS', 'DMS.W', 'DMYS', 'DMYS.U', 'DMYS.W', 'DMYY', 'DMYY.U', 'DMYY.W', 'DNA', 'DNA.W', 'DNB', 'DNL', 'DNMR', 'DNN', 'DNOV', 'DNOW', 'DNP', 'DO', 'DOC', 'DOCN', 'DOCS', 'DOCT', 'DOG', 'DOL', 'DOLE', 'DOMA', 'DOMA.W', 'DON', 'DOOR', 'DOUG', 'DOV', 'DOW', 'DPG', 'DPSI', 'DPST', 'DPZ', 'DQ', 'DRD', 'DRH', 'DRH$A', 'DRI', 'DRIP', 'DRLL', 'DRN', 'DRQ', 'DRSK', 'DRV', 'DSAQ', 'DSAQ.U', 'DSCF', 'DSEP', 'DSI', 'DSJA', 'DSL', 'DSM', 'DSMC', 'DSOC', 'DSS', 'DSTL', 'DSTX', 'DSU', 'DSX', 'DSX$B', 'DT', 'DTB', 'DTC', 'DTD', 'DTE', 'DTEC', 'DTF', 'DTG', 'DTH', 'DTLA$', 'DTM', 'DTRE', 'DTW', 'DUDE', 'DUG', 'DUHP', 'DUK', 'DUK$A', 'DUKB', 'DULL', 'DURA', 'DUSA', 'DUSL', 'DUST', 'DV', 'DVA', 'DVN', 'DVND', 'DVYA', 'DVYE', 'DWAT', 'DWCR', 'DWLD', 'DWM', 'DWMF', 'DWX', 'DX', 'DX$C', 'DXC', 'DXD', 'DXF', 'DXJ', 'DY', 'DYLD', 'DYNF', 'DZZ', 'E', 'EAD', 'EAF', 'EAFD', 'EAGG', 'EAI', 'EAOA', 'EAOK', 'EAOM', 'EAOR', 'EAPR', 'EARN', 'EASG', 'EAT', 'EATV', 'EATZ', 'EB', 'EBF', 'EBLU', 'EBND', 'EBR', 'EBR.B', 'EBS', 'EC', 'ECAT', 'ECC', 'ECC$D', 'ECCC', 'ECCV', 'ECCW', 'ECCX', 'ECF', 'ECF$A', 'ECH', 'ECL', 'ECLN', 'ECNS', 'ECON', 'ECOZ', 'ECVT', 'ED', 'EDC', 'EDD', 'EDEN', 'EDF', 'EDI', 'EDIV', 'EDN', 'EDOG', 'EDOW', 'EDR', 'EDU', 'EDV', 'EDZ', 'EE', 'EEA', 'EELV', 'EEM', 'EEMD', 'EEMO', 'EEMS', 'EEMV', 'EEMX', 'EES', 'EET', 'EEV', 'EEX', 'EFA', 'EFAD', 'EFAV', 'EFAX', 'EFC', 'EFC$A', 'EFC$B', 'EFC$C', 'EFG', 'EFIV', 'EFIX', 'EFNL', 'EFO', 'EFR', 'EFSH', 'EFT', 'EFU', 'EFV', 'EFX', 'EFXT', 'EFZ', 'EGF', 'EGGF', 'EGGF.U', 'EGGF.W', 'EGIS', 'EGLE', 'EGO', 'EGP', 'EGPT', 'EGUS', 'EGY', 'EHAB', 'EHC', 'EHI', 'EIC', 'EICA', 'EIDO', 'EIG', 'EIM', 'EINC', 'EIPX', 'EIRL', 'EIS', 'EIX', 'EJAN', 'EJUL', 'EL', 'ELA', 'ELAN', 'ELC', 'ELD', 'ELF', 'ELLO', 'ELMD', 'ELME', 'ELP', 'ELQD', 'ELS', 'ELV', 'EMAN', 'EMBD', 'EMCA', 'EMCH', 'EMCR', 'EMD', 'EMDM', 'EMDV', 'EME', 'EMF', 'EMFM', 'EMFQ', 'EMGC', 'EMGD', 'EMGF', 'EMHC', 'EMHY', 'EMLC', 'EMLP', 'EMMF', 'EMN', 'EMNT', 'EMO', 'EMP', 'EMPW', 'EMQQ', 'EMR', 'EMSG', 'EMTL', 'EMTY', 'EMX', 'EMZA', 'ENAV', 'ENB', 'ENBA', 'ENFN', 'ENFR', 'ENIC', 'ENJ', 'ENLC', 'ENO', 'ENOR', 'ENOV', 'ENR', 'ENRG', 'ENS', 'ENSV', 'ENTR', 'ENV', 'ENVA', 'ENX', 'ENZ', 'EOCT', 'EOCW', 'EOCW.U', 'EOCW.W', 'EOD', 'EOG', 'EOI', 'EOS', 'EOT', 'EP', 'EP$C', 'EPAC', 'EPAM', 'EPC', 'EPD', 'EPHE', 'EPI', 'EPM', 'EPOL', 'EPP', 'EPR', 'EPR$C', 'EPR$E', 'EPR$G', 'EPRF', 'EPRT', 'EPS', 'EPU', 'EPV', 'EQAL', 'EQC', 'EQC$D', 'EQH', 'EQH$A', 'EQH$C', 'EQL', 'EQNR', 'EQOP', 'EQR', 'EQS', 'EQT', 'EQTY', 'EQUL', 'EQWL', 'EQX', 'ERC', 'ERF', 'ERH', 'ERJ', 'ERM', 'ERO', 'ERSX', 'ERTH', 'ERX', 'ERY', 'ES', 'ESAB', 'ESBA', 'ESCR', 'ESE', 'ESEB', 'ESG', 'ESGA', 'ESGB', 'ESGG', 'ESGN', 'ESGS', 'ESGV', 'ESGY', 'ESHY', 'ESI', 'ESIX', 'ESM', 'ESM.U', 'ESM.W', 'ESML', 'ESMT', 'ESNT', 'ESP', 'ESRT', 'ESS', 'ESTC', 'ESTE', 'ESUS', 'ET', 'ET$C', 'ET$D', 'ET$E', 'ETB', 'ETD', 'ETG', 'ETHO', 'ETI$', 'ETJ', 'ETN', 'ETO', 'ETR', 'ETRN', 'ETV', 'ETW', 'ETWO', 'ETWO.W', 'ETX', 'ETY', 'EU', 'EUDG', 'EUDV', 'EUM', 'EUO', 'EURL', 'EURN', 'EUSA', 'EUSB', 'EUSC', 'EVA', 'EVAV', 'EVBN', 'EVC', 'EVE', 'EVE.U', 'EVE.W', 'EVEN', 'EVEX', 'EVEX.W', 'EVF', 'EVG', 'EVH', 'EVI', 'EVM', 'EVN', 'EVNT', 'EVR', 'EVRI', 'EVT', 'EVTC', 'EVTL', 'EVTL.W', 'EVUS', 'EVV', 'EVX', 'EW', 'EWA', 'EWC', 'EWCO', 'EWD', 'EWG', 'EWGS', 'EWH', 'EWI', 'EWJ', 'EWK', 'EWL', 'EWM', 'EWMC', 'EWN', 'EWO', 'EWP', 'EWQ', 'EWRE', 'EWS', 'EWSC', 'EWT', 'EWU', 'EWUS', 'EWV', 'EWW', 'EWX', 'EWY', 'EWZ', 'EXD', 'EXG', 'EXI', 'EXK', 'EXP', 'EXPR', 'EXR', 'EYLD', 'EZA', 'EZJ', 'EZM', 'EZU', 'F', 'F$B', 'F$C', 'F$D', 'FACT', 'FACT.U', 'FACT.W', 'FAF', 'FAIL', 'FAM', 'FAN', 'FAPR', 'FAS', 'FATH', 'FATH.W', 'FAUG', 'FAX', 'FAZ', 'FBCG', 'FBCV', 'FBGX', 'FBIN', 'FBK', 'FBND', 'FBP', 'FBRT', 'FBRT$E', 'FBT', 'FC', 'FCF', 'FCG', 'FCLD', 'FCN', 'FCO', 'FCOM', 'FCOR', 'FCPI', 'FCPT', 'FCRX', 'FCSH', 'FCT', 'FCTR', 'FCUS', 'FCX', 'FDD', 'FDEC', 'FDEM', 'FDEU', 'FDEV', 'FDG', 'FDHT', 'FDHY', 'FDIS', 'FDL', 'FDLO', 'FDLS', 'FDM', 'FDMO', 'FDN', 'FDP', 'FDRR', 'FDRV', 'FDS', 'FDV', 'FDVV', 'FDWM', 'FDX', 'FE', 'FEBT', 'FEBW', 'FEBZ', 'FEDL', 'FEDM', 'FEDU', 'FEEM', 'FEHY', 'FEI', 'FEIG', 'FEN', 'FENG', 'FENY', 'FERG', 'FET', 'FEUS', 'FEZ', 'FF', 'FFA', 'FFC', 'FFEB', 'FFHG', 'FFIU', 'FFND', 'FFSG', 'FFTG', 'FFTI', 'FFTY', 'FG', 'FGB', 'FGD', 'FGH', 'FGLD', 'FGRO', 'FHI', 'FHLC', 'FHN', 'FHN$B', 'FHN$C', 'FHN$D', 'FHN$E', 'FHN$F', 'FHYS', 'FIAX', 'FIBR', 'FICO', 'FIDI', 'FIDU', 'FIEE', 'FIF', 'FIG', 'FIGB', 'FIGS', 'FIHD', 'FILL', 'FINS', 'FINV', 'FIS', 'FISK', 'FISR', 'FITE', 'FIVA', 'FIVG', 'FIW', 'FIX', 'FJAN', 'FJUL', 'FJUN', 'FL', 'FLAG', 'FLAG.U', 'FLAG.W', 'FLAU', 'FLAX', 'FLBL', 'FLBR', 'FLC', 'FLCA', 'FLCB', 'FLCH', 'FLCO', 'FLDR', 'FLDZ', 'FLEE', 'FLEH', 'FLFR', 'FLGB', 'FLGR', 'FLGV', 'FLHK', 'FLHY', 'FLIA', 'FLIN', 'FLIY', 'FLJH', 'FLJP', 'FLKR', 'FLLA', 'FLLV', 'FLMB', 'FLME', 'FLME.U', 'FLME.W', 'FLMI', 'FLMX', 'FLNG', 'FLO', 'FLOT', 'FLQL', 'FLQM', 'FLQS', 'FLR', 'FLRG', 'FLRN', 'FLRT', 'FLS', 'FLSA', 'FLSP', 'FLSW', 'FLT', 'FLTB', 'FLTN', 'FLTR', 'FLTW', 'FLUD', 'FLV', 'FLYD', 'FLYU', 'FLZA', 'FM', 'FMAG', 'FMAR', 'FMAT', 'FMAY', 'FMC', 'FMCX', 'FMF', 'FMIL', 'FMN', 'FMNY', 'FMQQ', 'FMS', 'FMX', 'FMY', 'FN', 'FNA', 'FNB', 'FNB$E', 'FNCL', 'FND', 'FNDA', 'FNDB', 'FNDC', 'FNDE', 'FNDF', 'FNDX', 'FNF', 'FNGD', 'FNGG', 'FNGO', 'FNGS', 'FNGU', 'FNOV', 'FNV', 'FOA', 'FOA.W', 'FOCT', 'FOF', 'FOR', 'FORG', 'FORH', 'FOUR', 'FOVL', 'FOXO', 'FOXO.W', 'FPAG', 'FPE', 'FPEI', 'FPF', 'FPFD', 'FPH', 'FPI', 'FPL', 'FPRO', 'FPX', 'FQAL', 'FR', 'FRA', 'FRC', 'FRC$H', 'FRC$I', 'FRC$J', 'FRC$K', 'FRC$L', 'FRC$M', 'FRC$N', 'FRD', 'FRDM', 'FREL', 'FREY', 'FREY.W', 'FRGE', 'FRI', 'FRNW', 'FRO', 'FRT', 'FRT$C', 'FRTY', 'FRXB', 'FRXB.U', 'FRXB.W', 'FSBD', 'FSCO', 'FSD', 'FSEC', 'FSEP', 'FSI', 'FSIG', 'FSK', 'FSLD', 'FSLY', 'FSM', 'FSMB', 'FSMD', 'FSMO', 'FSNB', 'FSNB.U', 'FSP', 'FSR', 'FSS', 'FSST', 'FSTA', 'FSYD', 'FT', 'FTBD', 'FTCH', 'FTEC', 'FTF', 'FTHY', 'FTI', 'FTK', 'FTLS', 'FTS', 'FTSD', 'FTV', 'FUBO', 'FUL', 'FUMB', 'FUN', 'FUNL', 'FURY', 'FUTY', 'FVAL', 'FVD', 'FVRR', 'FXA', 'FXB', 'FXC', 'FXD', 'FXE', 'FXF', 'FXG', 'FXH', 'FXI', 'FXL', 'FXLV', 'FXN', 'FXO', 'FXP', 'FXR', 'FXU', 'FXY', 'FXZ', 'FYLD', 'FYLG', 'FZT', 'FZT.U', 'FZT.W', 'G', 'GAA', 'GAB', 'GAB$G', 'GAB$H', 'GAB$K', 'GABF', 'GAL', 'GAM', 'GAM$B', 'GAMR', 'GAQ', 'GAQ.U', 'GAQ.W', 'GAST', 'GATO', 'GATX', 'GAU', 'GAZ', 'GB', 'GB.W', 'GBAB', 'GBCI', 'GBF', 'GBIL', 'GBLD', 'GBLI', 'GBR', 'GBTG', 'GBUY', 'GBX', 'GCAD', 'GCC', 'GCI', 'GCLN', 'GCO', 'GCOR', 'GCOW', 'GCV', 'GD', 'GDDY', 'GDE', 'GDEF', 'GDIV', 'GDL', 'GDL$C', 'GDMA', 'GDMN', 'GDO', 'GDOC', 'GDOT', 'GDV', 'GDV$H', 'GDV$K', 'GDVD', 'GDX', 'GDXD', 'GDXJ', 'GDXU', 'GE', 'GEF', 'GEF.B', 'GEHI', 'GEL', 'GEM', 'GEMD', 'GENC', 'GENI', 'GEO', 'GER', 'GERM', 'GES', 'GETR', 'GETR.W', 'GETY', 'GF', 'GFEB', 'GFF', 'GFI', 'GFL', 'GFLU', 'GFOF', 'GFOR', 'GFOR.U', 'GFOR.W', 'GFX', 'GFX.U', 'GFX.W', 'GGB', 'GGG', 'GGN', 'GGN$B', 'GGRW', 'GGT', 'GGT$E', 'GGT$G', 'GGZ', 'GHC', 'GHG', 'GHI', 'GHL', 'GHLD', 'GHM', 'GHTA', 'GHY', 'GHYB', 'GHYG', 'GIA', 'GIA.U', 'GIA.W', 'GIB', 'GIC', 'GIGB', 'GII', 'GIL', 'GIM', 'GINN', 'GIS', 'GJAN', 'GJH', 'GJO', 'GJP', 'GJR', 'GJS', 'GJT', 'GK', 'GKOS', 'GL', 'GL$D', 'GLCN', 'GLD', 'GLDB', 'GLDG', 'GLDM', 'GLDX', 'GLIF', 'GLIN', 'GLL', 'GLO', 'GLOB', 'GLOF', 'GLOG$A', 'GLOP', 'GLOP$A', 'GLOP$B', 'GLOP$C', 'GLOV', 'GLP', 'GLP$A', 'GLP$B', 'GLQ', 'GLRY', 'GLS', 'GLT', 'GLTA', 'GLTA.U', 'GLTA.W', 'GLTR', 'GLU', 'GLU$A', 'GLU$B', 'GLV', 'GLW', 'GM', 'GME', 'GMED', 'GMET', 'GMF', 'GMOM', 'GMRE', 'GMRE$A', 'GMS', 'GNE', 'GNE$A', 'GNK', 'GNL', 'GNL$A', 'GNL$B', 'GNR', 'GNRC', 'GNS', 'GNT', 'GNT$A', 'GNTY', 'GNW', 'GOAU', 'GOEX', 'GOF', 'GOGN', 'GOGN.U', 'GOGN.W', 'GOL', 'GOLD', 'GOLF', 'GOOS', 'GORO', 'GOTU', 'GOVT', 'GOVZ', 'GPAL', 'GPC', 'GPI', 'GPJA', 'GPK', 'GPMT', 'GPMT$A', 'GPN', 'GPOR', 'GPRK', 'GPS', 'GQRE', 'GRBK', 'GRBK$A', 'GRC', 'GREI', 'GREK', 'GRES', 'GRF', 'GRFX', 'GRMN', 'GRN', 'GRNB', 'GRND', 'GRND.W', 'GRNT', 'GRNT.W', 'GROV', 'GROV.W', 'GROY', 'GROY.W', 'GRP.U', 'GRX', 'GRZZ', 'GS', 'GS$A', 'GS$C', 'GS$D', 'GS$J', 'GS$K', 'GSAT', 'GSBD', 'GSEE', 'GSEU', 'GSEW', 'GSFP', 'GSG', 'GSID', 'GSIE', 'GSIG', 'GSJY', 'GSK', 'GSL', 'GSL$B', 'GSLC', 'GSP', 'GSPY', 'GSQB', 'GSQB.U', 'GSQB.W', 'GSSC', 'GSST', 'GSUS', 'GSY', 'GTE', 'GTEK', 'GTES', 'GTIP', 'GTLS', 'GTLS$B', 'GTN', 'GTN.A', 'GTO', 'GTY', 'GUG', 'GUNR', 'GURU', 'GUSA', 'GUSH', 'GUT', 'GUT$C', 'GVA', 'GVAL', 'GVI', 'GVIP', 'GVLU', 'GWH', 'GWH.W', 'GWRE', 'GWW', 'GWX', 'GXC', 'GXG', 'GXO', 'GYLD', 'H', 'HACK', 'HAE', 'HAIL', 'HAL', 'HAP', 'HAPI', 'HAPY', 'HART', 'HASI', 'HAUS', 'HAUZ', 'HAWX', 'HAYW', 'HBB', 'HBI', 'HBM', 'HCA', 'HCC', 'HCI', 'HCOM', 'HCRB', 'HCXY', 'HD', 'HDAW', 'HDB', 'HDEF', 'HDG', 'HDGE', 'HDLB', 'HDMV', 'HDRO', 'HDUS', 'HDV', 'HE', 'HEDJ', 'HEEM', 'HEET', 'HEFA', 'HEGD', 'HEI', 'HEI.A', 'HELX', 'HEP', 'HEQ', 'HEQT', 'HES', 'HESM', 'HEWC', 'HEWJ', 'HEWU', 'HEZU', 'HFGO', 'HFND', 'HFRO', 'HFRO$A', 'HFXI', 'HGER', 'HGLB', 'HGTY', 'HGTY.W', 'HGV', 'HHC', 'HHLA', 'HHLA.U', 'HHLA.W', 'HI', 'HIBL', 'HIBS', 'HIDE', 'HIE', 'HIG', 'HIG$G', 'HIGH', 'HII', 'HIMS', 'HIO', 'HIPO', 'HIPO.W', 'HIPS', 'HIW', 'HIX', 'HIYS', 'HJEN', 'HKD', 'HKND', 'HL', 'HL$B', 'HLF', 'HLGE', 'HLGN', 'HLGN.W', 'HLI', 'HLIO', 'HLLY', 'HLLY.W', 'HLN', 'HLT', 'HLX', 'HMA', 'HMA.U', 'HMA.W', 'HMC', 'HMN', 'HMOP', 'HMY', 'HNI', 'HNRA', 'HNRA.W', 'HNW', 'HOG', 'HOLD', 'HOM', 'HOMB', 'HOMZ', 'HOTL', 'HOUS', 'HOV', 'HP', 'HPE', 'HPF', 'HPI', 'HPP', 'HPP$C', 'HPQ', 'HPS', 'HQH', 'HQL', 'HR', 'HRB', 'HRI', 'HRL', 'HRT', 'HRTG', 'HSBC', 'HSC', 'HSCZ', 'HSMV', 'HSRT', 'HSUN', 'HSY', 'HT', 'HT$C', 'HT$D', 'HT$E', 'HTAB', 'HTD', 'HTEC', 'HTFB', 'HTFC', 'HTGC', 'HTH', 'HTRB', 'HTUS', 'HTY', 'HUBB', 'HUBS', 'HUM', 'HUN', 'HUSA', 'HUSV', 'HUYA', 'HVAL', 'HVT', 'HVT.A', 'HWKZ', 'HWKZ.U', 'HWM', 'HWM$', 'HXL', 'HY', 'HYB', 'HYBB', 'HYBL', 'HYD', 'HYDB', 'HYDW', 'HYEM', 'HYG', 'HYGH', 'HYGI', 'HYGV', 'HYGW', 'HYHG', 'HYI', 'HYIN', 'HYLB', 'HYLD', 'HYLG', 'HYLN', 'HYMB', 'HYMU', 'HYRM', 'HYS', 'HYT', 'HYTR', 'HYUP', 'HYXU', 'HZO', 'HZON', 'HZON.U', 'HZON.W', 'IAA', 'IAE', 'IAF', 'IAG', 'IAGG', 'IAI', 'IAK', 'IAPR', 'IAT', 'IAU', 'IAUF', 'IAUM', 'IAUX', 'IBA', 'IBCE', 'IBD', 'IBDD', 'IBDO', 'IBDP', 'IBDQ', 'IBDR', 'IBDS', 'IBDT', 'IBDU', 'IBDV', 'IBDW', 'IBDX', 'IBHC', 'IBHD', 'IBHE', 'IBHF', 'IBHG', 'IBHH', 'IBHI', 'IBIO', 'IBLC', 'IBM', 'IBML', 'IBMM', 'IBMN', 'IBMO', 'IBMP', 'IBMQ', 'IBN', 'IBND', 'IBO', 'IBP', 'IBRN', 'IBUY', 'ICAP', 'ICD', 'ICE', 'ICF', 'ICL', 'ICLO', 'ICNC', 'ICNC.U', 'ICNC.W', 'ICOW', 'ICR$A', 'ICSH', 'ICVT', 'ID', 'IDA', 'IDAT', 'IDE', 'IDEV', 'IDHD', 'IDHQ', 'IDLV', 'IDME', 'IDMO', 'IDNA', 'IDOG', 'IDR', 'IDRV', 'IDT', 'IDU', 'IDV', 'IDVO', 'IDW', 'IDX', 'IE', 'IEDI', 'IEFA', 'IEMG', 'IEO', 'IETC', 'IEUR', 'IEV', 'IEX', 'IEZ', 'IFED', 'IFF', 'IFIN', 'IFIN.U', 'IFIN.W', 'IFN', 'IFRA', 'IFS', 'IG', 'IGA', 'IGBH', 'IGC', 'IGD', 'IGE', 'IGEB', 'IGHG', 'IGI', 'IGLB', 'IGLD', 'IGM', 'IGN', 'IGR', 'IGR.V', 'IGRO', 'IGT', 'IGTR', 'IGV', 'IGZ', 'IH', 'IHAK', 'IHD', 'IHDG', 'IHE', 'IHF', 'IHG', 'IHI', 'IHIT', 'IHS', 'IHT', 'IHTA', 'IHY', 'IIF', 'IIGD', 'IIGV', 'IIIN', 'IIM', 'IIPR', 'IIPR$A', 'IIVI', 'IJAN', 'IJH', 'IJJ', 'IJK', 'IJR', 'IJS', 'IJUL', 'ILCB', 'ILCG', 'ILCV', 'ILDR', 'ILF', 'ILTB', 'IMAX', 'IMCB', 'IMCG', 'IMFL', 'IMH', 'IMO', 'IMOM', 'IMSI', 'IMTB', 'IMTM', 'INAQ', 'INAQ.U', 'INC', 'INCO', 'INDA', 'INDF', 'INDL', 'INDO', 'INDS', 'INFA', 'INFL', 'INFU', 'INFY', 'ING', 'INGR', 'INKM', 'INLX', 'INMU', 'INN', 'INN$E', 'INN$F', 'INNO', 'INQQ', 'INSI', 'INSP', 'INST', 'INSW', 'INT', 'INTF', 'INTL', 'INTT', 'INUV', 'INVH', 'IOCT', 'ION', 'IONQ', 'IONQ.W', 'IOO', 'IOR', 'IOT', 'IP', 'IPAC', 'IPAY', 'IPB', 'IPDP', 'IPG', 'IPI', 'IPO', 'IPOS', 'IPPP', 'IPVF', 'IPVF.U', 'IPVF.W', 'IQDE', 'IQDF', 'IQDG', 'IQDY', 'IQHI', 'IQI', 'IQIN', 'IQLT', 'IQM', 'IQSI', 'IQSM', 'IQSU', 'IQV', 'IR', 'IRBA', 'IRBO', 'IRM', 'IRNT', 'IRNT.W', 'IRRX', 'IRRX.U', 'IRRX.W', 'IRS', 'IRS.W', 'IRT', 'IRVH', 'ISCB', 'ISCF', 'ISCG', 'ISCV', 'ISD', 'ISDB', 'ISDR', 'ISMD', 'ISRA', 'ISVL', 'ISWN', 'ISZE', 'IT', 'ITA', 'ITAN', 'ITB', 'ITCB', 'ITEQ', 'ITGR', 'ITM', 'ITOT', 'ITP', 'ITRG', 'ITT', 'ITUB', 'ITW', 'IVAL', 'IVDG', 'IVE', 'IVES', 'IVH', 'IVLC', 'IVLU', 'IVOG', 'IVOL', 'IVOO', 'IVOV', 'IVR', 'IVR$B', 'IVR$C', 'IVRA', 'IVRS', 'IVSG', 'IVT', 'IVV', 'IVW', 'IVZ', 'IWB', 'IWC', 'IWD', 'IWDL', 'IWF', 'IWFG', 'IWFH', 'IWFL', 'IWIN', 'IWL', 'IWLG', 'IWM', 'IWML', 'IWN', 'IWO', 'IWP', 'IWR', 'IWS', 'IWV', 'IWX', 'IWY', 'IX', 'IXC', 'IXG', 'IXJ', 'IXN', 'IXP', 'IXSE', 'IYC', 'IYE', 'IYF', 'IYG', 'IYH', 'IYJ', 'IYK', 'IYLD', 'IYM', 'IYR', 'IYT', 'IYW', 'IYY', 'IYZ', 'IZRL', 'J', 'JAAA', 'JANT', 'JANW', 'JANZ', 'JATT', 'JATT.U', 'JATT.W', 'JAVA', 'JBBB', 'JBGS', 'JBI', 'JBK', 'JBL', 'JBT', 'JCE', 'JCI', 'JCPB', 'JCPI', 'JCTR', 'JDST', 'JEF', 'JELD', 'JEMA', 'JEPI', 'JEQ', 'JETS', 'JFR', 'JFWD', 'JGH', 'JGRO', 'JHAA', 'JHCB', 'JHDV', 'JHEM', 'JHG', 'JHI', 'JHID', 'JHMB', 'JHMD', 'JHML', 'JHMM', 'JHPI', 'JHS', 'JHSC', 'JHX', 'JIB', 'JIDA', 'JIG', 'JILL', 'JIRE', 'JJA', 'JJC', 'JJE', 'JJG', 'JJM', 'JJN', 'JJP', 'JJS', 'JJT', 'JJU', 'JKS', 'JLL', 'JLS', 'JMBS', 'JMEE', 'JMIA', 'JMM', 'JMOM', 'JMST', 'JMUB', 'JNJ', 'JNK', 'JNPR', 'JNUG', 'JO', 'JOB', 'JOBY', 'JOBY.W', 'JOE', 'JOF', 'JOJO', 'JPC', 'JPEM', 'JPI', 'JPIB', 'JPIE', 'JPIN', 'JPM', 'JPM$C', 'JPM$D', 'JPM$J', 'JPM$K', 'JPM$L', 'JPM$M', 'JPMB', 'JPME', 'JPRE', 'JPS', 'JPSE', 'JPST', 'JPSV', 'JPT', 'JPUS', 'JPXN', 'JQC', 'JQUA', 'JRE', 'JRI', 'JRNY', 'JRO', 'JRS', 'JSCP', 'JSD', 'JSTC', 'JT', 'JUCY', 'JULT', 'JULW', 'JULZ', 'JUN', 'JUN.U', 'JUN.W', 'JUNZ', 'JUSA', 'JUST', 'JVAL', 'JWN', 'JWSM', 'JWSM.U', 'JWSM.W', 'JXI', 'JXN', 'JZRO', 'K', 'KAI', 'KALL', 'KAMN', 'KAPR', 'KAR', 'KARB', 'KARS', 'KB', 'KBA', 'KBE', 'KBH', 'KBND', 'KBR', 'KBUY', 'KCAL', 'KCCA', 'KCE', 'KCGI', 'KCGI.U', 'KCGI.W', 'KD', 'KDIV', 'KDRN', 'KEMQ', 'KEMX', 'KEN', 'KEP', 'KESG', 'KEUA', 'KEX', 'KEY', 'KEY$I', 'KEY$J', 'KEY$K', 'KEY$L', 'KEYS', 'KF', 'KFS', 'KFVG', 'KFY', 'KFYP', 'KGC', 'KGHG', 'KGRN', 'KGRO', 'KHYB', 'KIE', 'KIM', 'KIM$L', 'KIM$M', 'KIND', 'KIO', 'KIQ', 'KJAN', 'KJUL', 'KKR', 'KKR$C', 'KKRS', 'KLDW', 'KLIP', 'KLNE', 'KLR', 'KLR.W', 'KMB', 'KMED', 'KMET', 'KMF', 'KMI', 'KMLM', 'KMPB', 'KMPR', 'KMT', 'KMX', 'KN', 'KNG', 'KNGS', 'KNOP', 'KNSL', 'KNSW', 'KNSW.U', 'KNSW.W', 'KNTK', 'KNW', 'KNX', 'KO', 'KOCG', 'KOCT', 'KODK', 'KOF', 'KOIN', 'KOKU', 'KOLD', 'KOMP', 'KONG', 'KOP', 'KORE', 'KORE.W', 'KORP', 'KORU', 'KOS', 'KPOP', 'KR', 'KRBN', 'KRC', 'KRE', 'KREF', 'KREF$A', 'KRG', 'KRO', 'KRP', 'KRUZ', 'KSA', 'KSET', 'KSM', 'KSS', 'KSTR', 'KT', 'KTB', 'KTEC', 'KTF', 'KTH', 'KTN', 'KUKE', 'KULR', 'KURE', 'KVLE', 'KW', 'KWEB', 'KWR', 'KWT', 'KXI', 'KYN', 'L', 'LABD', 'LABU', 'LAC', 'LAD', 'LADR', 'LALT', 'LANV', 'LANV.W', 'LAW', 'LAZ', 'LBAY', 'LBRT', 'LC', 'LCF', 'LCG', 'LCI', 'LCII', 'LCLG', 'LCR', 'LCTD', 'LCTU', 'LCTX', 'LCW', 'LCW.U', 'LCW.W', 'LD', 'LDI', 'LDOS', 'LDP', 'LDUR', 'LEA', 'LEAD', 'LEG', 'LEJU', 'LEMB', 'LEN', 'LEN.B', 'LEO', 'LETB', 'LEU', 'LEV', 'LEV.A', 'LEV.W', 'LEVI', 'LEXI', 'LFEQ', 'LFT', 'LFT$A', 'LGF.A', 'LGF.B', 'LGH', 'LGI', 'LGL', 'LGL.W', 'LGLV', 'LGOV', 'LH', 'LHC', 'LHC.U', 'LHX', 'LICY', 'LII', 'LIN', 'LIT', 'LITB', 'LJIM', 'LKOR', 'LL', 'LLAP', 'LLAP.W', 'LLY', 'LMND', 'LMT', 'LNC', 'LNC$D', 'LND', 'LNG', 'LNN', 'LOB', 'LOCC', 'LOCC.U', 'LOCC.W', 'LOCL', 'LOCL.W', 'LODE', 'LOMA', 'LONZ', 'LOPP', 'LOUP', 'LOW', 'LPG', 'LPL', 'LPTV', 'LPX', 'LQD', 'LQDB', 'LQDH', 'LQDI', 'LQDW', 'LQIG', 'LRGF', 'LRN', 'LRNZ', 'LSAF', 'LSAT', 'LSF', 'LSI', 'LSPD', 'LSST', 'LTC', 'LTH', 'LTHM', 'LTL', 'LTPZ', 'LU', 'LUMN', 'LUV', 'LVHI', 'LVOL', 'LVS', 'LVWR', 'LVWR.W', 'LW', 'LXFR', 'LXP', 'LXP$C', 'LXU', 'LYB', 'LYFE', 'LYG', 'LYV', 'LZB', 'M', 'MA', 'MAA', 'MAA$I', 'MAAX', 'MAC', 'MAG', 'MAGA', 'MAIA', 'MAIN', 'MAKX', 'MAMB', 'MAN', 'MANU', 'MARB', 'MART', 'MARW', 'MARZ', 'MAS', 'MATV', 'MATX', 'MAV', 'MAX', 'MAXR', 'MAYZ', 'MBAC', 'MBAC.U', 'MBAC.W', 'MBBB', 'MBC', 'MBCC', 'MBI', 'MBND', 'MBNE', 'MBOX', 'MBSC', 'MBSC.U', 'MBSC.W', 'MBSD', 'MC', 'MCB', 'MCD', 'MCG', 'MCH', 'MCI', 'MCK', 'MCN', 'MCO', 'MCR', 'MCS', 'MCW', 'MCY', 'MD', 'MDC', 'MDEV', 'MDT', 'MDU', 'MDV', 'MDV$A', 'MDY', 'MDYG', 'MDYV', 'MEAR', 'MEC', 'MED', 'MEDI', 'MEG', 'MEGI', 'MEI', 'MEM', 'MEME', 'MEMX', 'MER$K', 'MET', 'MET$A', 'MET$E', 'MET$F', 'METV', 'MEXX', 'MFA', 'MFA$B', 'MFA$C', 'MFC', 'MFD', 'MFDX', 'MFEM', 'MFG', 'MFM', 'MFUL', 'MFUS', 'MFV', 'MG', 'MGA', 'MGC', 'MGF', 'MGK', 'MGLD', 'MGM', 'MGMT', 'MGR', 'MGRB', 'MGRD', 'MGU', 'MGV', 'MGY', 'MHD', 'MHF', 'MHH', 'MHI', 'MHK', 'MHLA', 'MHN', 'MHNC', 'MHO', 'MID', 'MIDE', 'MIDU', 'MIG', 'MIMO', 'MIMO.A', 'MIMO.B', 'MIMO.W', 'MIN', 'MINC', 'MINN', 'MINO', 'MINT', 'MINV', 'MIO', 'MIR', 'MIR.W', 'MISL', 'MITQ', 'MITT', 'MITT$A', 'MITT$B', 'MITT$C', 'MIXT', 'MIY', 'MJ', 'MJUS', 'MKC', 'MKC.V', 'MKFG', 'MKFG.W', 'MKL', 'ML', 'ML.W', 'MLI', 'MLM', 'MLN', 'MLNK', 'MLP', 'MLPA', 'MLPB', 'MLPO', 'MLPR', 'MLPX', 'MLR', 'MLSS', 'MMC', 'MMCA', 'MMD', 'MMI', 'MMIN', 'MMIT', 'MMLG', 'MMM', 'MMP', 'MMS', 'MMSB', 'MMSC', 'MMT', 'MMTM', 'MMU', 'MNA', 'MNBD', 'MNK', 'MNM', 'MNP', 'MNSO', 'MNTN', 'MNTN.U', 'MNTN.W', 'MO', 'MOAT', 'MOD', 'MODG', 'MODN', 'MOG.A', 'MOG.B', 'MOGU', 'MOH', 'MOHR', 'MOO', 'MOOD', 'MOON', 'MORE', 'MORT', 'MOS', 'MOTE', 'MOTG', 'MOTI', 'MOTO', 'MOV', 'MP', 'MPA', 'MPAY', 'MPC', 'MPLN', 'MPLN.W', 'MPLX', 'MPRO', 'MPTI', 'MPU', 'MPV', 'MPW', 'MPX', 'MQT', 'MQY', 'MRAD', 'MRC', 'MRDB', 'MRDB.W', 'MRGR', 'MRK', 'MRO', 'MRSK', 'MS', 'MS$A', 'MS$E', 'MS$F', 'MS$I', 'MS$K', 'MS$L', 'MS$O', 'MS$P', 'MSA', 'MSB', 'MSC', 'MSCI', 'MSD', 'MSGE', 'MSGR', 'MSGS', 'MSI', 'MSM', 'MSMR', 'MSN', 'MSOS', 'MSOX', 'MSTB', 'MSTQ', 'MSVX', 'MT', 'MTA', 'MTAL', 'MTAL.U', 'MTAL.W', 'MTB', 'MTB$H', 'MTCN', 'MTD', 'MTDR', 'MTG', 'MTGP', 'MTH', 'MTN', 'MTNB', 'MTR', 'MTRN', 'MTUL', 'MTUM', 'MTVC', 'MTVC.U', 'MTVC.W', 'MTVR', 'MTW', 'MTX', 'MTZ', 'MUA', 'MUB', 'MUC', 'MUE', 'MUFG', 'MUI', 'MUJ', 'MUNI', 'MUR', 'MUSA', 'MUSI', 'MUST', 'MUX', 'MVF', 'MVO', 'MVPS', 'MVRL', 'MVT', 'MVV', 'MWA', 'MX', 'MXC', 'MXE', 'MXF', 'MXI', 'MYD', 'MYE', 'MYI', 'MYN', 'MYO', 'MYOV', 'MYTE', 'MYY', 'MZZ', 'NABL', 'NAC', 'NACP', 'NAD', 'NAIL', 'NAK', 'NAN', 'NANC', 'NANR', 'NAPA', 'NAPR', 'NAT', 'NAVB', 'NAZ', 'NBB', 'NBCC', 'NBCM', 'NBCT', 'NBDS', 'NBH', 'NBHC', 'NBO', 'NBR', 'NBW', 'NBXG', 'NBY', 'NC', 'NCA', 'NCLH', 'NCR', 'NCV', 'NCV$A', 'NCZ', 'NCZ$A', 'NDIV', 'NDJI', 'NDMO', 'NDP', 'NDVG', 'NE', 'NEA', 'NEAR', 'NEE', 'NEE$N', 'NEE$Q', 'NEE$R', 'NEM', 'NEN', 'NEP', 'NERD', 'NET', 'NETC', 'NETC.U', 'NETC.W', 'NETI', 'NETL', 'NETZ', 'NEU', 'NEWP', 'NEWR', 'NEX', 'NEXA', 'NFG', 'NFGC', 'NFJ', 'NFLT', 'NFNT', 'NFNT.U', 'NFNT.W', 'NFRA', 'NFYS', 'NFYS.U', 'NFYS.W', 'NG', 'NGC', 'NGC.U', 'NGC.W', 'NGD', 'NGE', 'NGG', 'NGL', 'NGL$B', 'NGL$C', 'NGS', 'NGVC', 'NGVT', 'NHC', 'NHI', 'NHS', 'NHWK', 'NI', 'NI$B', 'NIB', 'NIC', 'NID', 'NIE', 'NIM', 'NIMC', 'NINE', 'NIO', 'NIQ', 'NIWM', 'NJAN', 'NJR', 'NJUL', 'NKE', 'NKG', 'NKX', 'NL', 'NLR', 'NLS', 'NLY', 'NLY$F', 'NLY$G', 'NLY$I', 'NM', 'NM$G', 'NM$H', 'NMAI', 'NMCO', 'NMG', 'NMI', 'NMK$B', 'NMK$C', 'NML', 'NMM', 'NMR', 'NMS', 'NMT', 'NMZ', 'NNI', 'NNN', 'NNVC', 'NNY', 'NOA', 'NOAH', 'NOBL', 'NOC', 'NOCT', 'NOG', 'NOK', 'NOM', 'NOMD', 'NOPE', 'NORW', 'NOTE', 'NOTE.W', 'NOV', 'NOVA', 'NOVZ', 'NOW', 'NPCT', 'NPFD', 'NPK', 'NPO', 'NPV', 'NQP', 'NR', 'NRDY', 'NRDY.W', 'NREF', 'NREF$A', 'NRG', 'NRGD', 'NRGU', 'NRGV', 'NRGX', 'NRK', 'NRO', 'NRP', 'NRT', 'NRUC', 'NS', 'NS$A', 'NS$B', 'NS$C', 'NSA', 'NSA$A', 'NSC', 'NSCS', 'NSL', 'NSP', 'NSPI', 'NSPL', 'NSPY', 'NSS', 'NSTB', 'NSTB.U', 'NSTB.W', 'NSTC', 'NSTC.U', 'NSTD', 'NSTD.U', 'NSTD.W', 'NTB', 'NTCO', 'NTEST', 'NTEST.A', 'NTEST.B', 'NTEST.C', 'NTG', 'NTIP', 'NTKI', 'NTR', 'NTSE', 'NTSI', 'NTST', 'NTSX', 'NTZ', 'NU', 'NUAG', 'NUBD', 'NUDM', 'NUDV', 'NUE', 'NUEM', 'NUGO', 'NUGT', 'NUHY', 'NULC', 'NULG', 'NULV', 'NUMG', 'NUMV', 'NUO', 'NURE', 'NUS', 'NUSA', 'NUSC', 'NUSI', 'NUV', 'NUVB', 'NUVB.W', 'NUW', 'NVBT', 'NVBW', 'NVG', 'NVGS', 'NVIR', 'NVO', 'NVQ', 'NVR', 'NVRO', 'NVS', 'NVST', 'NVT', 'NVTA', 'NWG', 'NWLG', 'NWN', 'NX', 'NXC', 'NXDT', 'NXDT$A', 'NXE', 'NXG', 'NXJ', 'NXN', 'NXP', 'NXRT', 'NXTE', 'NYC', 'NYCB', 'NYCB$A', 'NYCB$U', 'NYF', 'NYT', 'NZF', 'O', 'OACP', 'OAEM', 'OAIA', 'OAIE', 'OAIM', 'OAK$A', 'OAK$B', 'OALC', 'OARK', 'OBE', 'OBND', 'OBOR', 'OC', 'OCEN', 'OCFT', 'OCIO', 'OCN', 'OCTT', 'OCTW', 'OCTZ', 'ODC', 'ODV', 'OEC', 'OEF', 'OEUR', 'OFC', 'OFG', 'OGCP', 'OGE', 'OGEN', 'OGIG', 'OGN', 'OGS', 'OHI', 'OI', 'OIA', 'OIH', 'OII', 'OIL', 'OILD', 'OILK', 'OILU', 'OIS', 'OKE', 'OLN', 'OLO', 'OLP', 'OMC', 'OMF', 'OMFL', 'OMFS', 'OMI', 'OND', 'ONEO', 'ONEV', 'ONEY', 'ONG', 'ONL', 'ONLN', 'ONOF', 'ONON', 'ONTF', 'ONTO', 'OOMA', 'OOTO', 'OPA', 'OPA.U', 'OPA.W', 'OPAD', 'OPAD.W', 'OPER', 'OPFI', 'OPFI.W', 'OPP', 'OPP$A', 'OPP$B', 'OPPX', 'OPTT', 'OPY', 'OR', 'ORA', 'ORAN', 'ORC', 'ORCC', 'ORCL', 'ORFN', 'ORI', 'ORLA', 'ORN', 'OSCR', 'OSCV', 'OSEA', 'OSG', 'OSH', 'OSI', 'OSI.U', 'OSI.W', 'OSK', 'OTIS', 'OUNZ', 'OUSA', 'OUSM', 'OUST', 'OUST.A', 'OUST.W', 'OUT', 'OVB', 'OVF', 'OVL', 'OVLH', 'OVM', 'OVS', 'OVT', 'OVV', 'OWL', 'OWLT', 'OWLT.W', 'OWNS', 'OXM', 'OXY', 'OXY.W', 'OZ', 'PAB', 'PAC', 'PACI', 'PACI.U', 'PACI.W', 'PACK', 'PAG', 'PAGS', 'PAI', 'PAK', 'PALC', 'PALL', 'PAM', 'PAMC', 'PAPR', 'PAR', 'PARR', 'PATH', 'PAUG', 'PAVE', 'PAWZ', 'PAXS', 'PAY', 'PAYC', 'PB', 'PBA', 'PBD', 'PBDC', 'PBDM', 'PBE', 'PBEE', 'PBF', 'PBH', 'PBI', 'PBI$B', 'PBJ', 'PBL', 'PBND', 'PBP', 'PBR', 'PBR.A', 'PBS', 'PBSM', 'PBT', 'PBTP', 'PBUS', 'PBW', 'PCEF', 'PCF', 'PCG', 'PCG$A', 'PCG$B', 'PCG$C', 'PCG$D', 'PCG$E', 'PCG$G', 'PCG$H', 'PCG$I', 'PCGU', 'PCK', 'PCM', 'PCN', 'PCOR', 'PCQ', 'PCRB', 'PCY', 'PD', 'PDEC', 'PDI', 'PDM', 'PDN', 'PDO', 'PDOT', 'PDOT.U', 'PDOT.W', 'PDS', 'PDT', 'PEAK', 'PEB', 'PEB$E', 'PEB$F', 'PEB$G', 'PEB$H', 'PED', 'PEG', 'PEJ', 'PEN', 'PEO', 'PERF', 'PERF.W', 'PEX', 'PEXL', 'PFD', 'PFE', 'PFEB', 'PFFA', 'PFFD', 'PFFL', 'PFFR', 'PFFV', 'PFGC', 'PFH', 'PFIG', 'PFIX', 'PFL', 'PFLD', 'PFLT', 'PFN', 'PFO', 'PFRL', 'PFS', 'PFSI', 'PFUT', 'PFXF', 'PG', 'PGAL', 'PGF', 'PGHY', 'PGM', 'PGP', 'PGR', 'PGRE', 'PGRO', 'PGRU', 'PGSS', 'PGSS.U', 'PGSS.W', 'PGTI', 'PGX', 'PGZ', 'PH', 'PHB', 'PHD', 'PHDG', 'PHG', 'PHGE', 'PHGE.U', 'PHGE.W', 'PHI', 'PHK', 'PHM', 'PHR', 'PHT', 'PHX', 'PHYD', 'PHYL', 'PHYS', 'PHYT', 'PHYT.U', 'PHYT.W', 'PIAI', 'PIAI.U', 'PIAI.W', 'PICB', 'PICK', 'PIFI', 'PII', 'PILL', 'PIM', 'PIN', 'PINE', 'PINK', 'PINS', 'PIPR', 'PIT', 'PJAN', 'PJFG', 'PJFV', 'PJP', 'PJT', 'PJUL', 'PJUN', 'PK', 'PKB', 'PKE', 'PKG', 'PKI', 'PKX', 'PL', 'PL.W', 'PLAG', 'PLAT', 'PLD', 'PLDR', 'PLG', 'PLM', 'PLM.V', 'PLNT', 'PLOW', 'PLRG', 'PLTL', 'PLTM', 'PLTR', 'PLX', 'PLYM', 'PLYM$A', 'PM', 'PMAR', 'PMAY', 'PMF', 'PML', 'PMM', 'PMO', 'PMT', 'PMT$A', 'PMT$B', 'PMT$C', 'PMX', 'PNC', 'PNF', 'PNI', 'PNM', 'PNNT', 'PNOV', 'PNR', 'PNTM', 'PNTM.U', 'PNTM.W', 'PNW', 'POCT', 'POL', 'POL.W', 'POR', 'PORT', 'PORT.U', 'PORT.W', 'POST', 'PP', 'PPA', 'PPEM', 'PPG', 'PPI', 'PPIE', 'PPL', 'PPLT', 'PPT', 'PPTY', 'PQDI', 'PR', 'PRA', 'PRAY', 'PRE$J', 'PREF', 'PRF', 'PRFD', 'PRG', 'PRGO', 'PRH', 'PRI', 'PRIF$D', 'PRIF$F', 'PRIF$G', 'PRIF$H', 'PRIF$I', 'PRIF$J', 'PRIF$K', 'PRIF$L', 'PRK', 'PRLB', 'PRM', 'PRMW', 'PRNT', 'PRO', 'PRPC', 'PRPC.U', 'PRPC.W', 'PRS', 'PRT', 'PRU', 'PSA', 'PSA$F', 'PSA$G', 'PSA$H', 'PSA$I', 'PSA$J', 'PSA$K', 'PSA$L', 'PSA$M', 'PSA$N', 'PSA$O', 'PSA$P', 'PSA$Q', 'PSA$R', 'PSA$S', 'PSCJ', 'PSCQ', 'PSCW', 'PSCX', 'PSDN', 'PSEC$A', 'PSEP', 'PSF', 'PSFD', 'PSFE', 'PSFE.W', 'PSFF', 'PSFJ', 'PSFM', 'PSFO', 'PSI', 'PSIL', 'PSJ', 'PSK', 'PSLV', 'PSMB', 'PSMC', 'PSMD', 'PSMG', 'PSMJ', 'PSMM', 'PSMO', 'PSMR', 'PSN', 'PSO', 'PSP', 'PSPC', 'PSPC.U', 'PSPC.W', 'PSQ', 'PSR', 'PST', 'PSTG', 'PSTL', 'PSTP', 'PSX', 'PSYK', 'PTA', 'PTBD', 'PTEU', 'PTIN', 'PTLC', 'PTMC', 'PTN', 'PTRB', 'PTY', 'PUK', 'PULS', 'PULT', 'PUMP', 'PUNK', 'PUTW', 'PVAL', 'PVH', 'PVI', 'PVL', 'PW', 'PW$A', 'PWB', 'PWC', 'PWR', 'PWS', 'PWSC', 'PWV', 'PWZ', 'PX', 'PXD', 'PXE', 'PXF', 'PXH', 'PXJ', 'PXQ', 'PXUS', 'PYN', 'PYPE', 'PYT', 'PZA', 'PZC', 'PZG', 'PZT', 'QAI', 'QARP', 'QBTS', 'QBTS.W', 'QCON', 'QD', 'QDEC', 'QDEF', 'QDF', 'QDIV', 'QDPL', 'QDYN', 'QEFA', 'QEMM', 'QFTA', 'QFTA.U', 'QGEN', 'QGRO', 'QGRW', 'QID', 'QINT', 'QJUN', 'QLC', 'QLD', 'QLTA', 'QLV', 'QLVD', 'QLVE', 'QMAR', 'QMOM', 'QPFF', 'QPX', 'QQH', 'QRFT', 'QS', 'QSPT', 'QSR', 'QSWN', 'QTAP', 'QTJA', 'QTJL', 'QTOC', 'QTUM', 'QTWO', 'QUAD', 'QUAL', 'QULL', 'QUOT', 'QUS', 'QVAL', 'QVCC', 'QVCD', 'QVML', 'QVMM', 'QVMS', 'QVOY', 'QWLD', 'R', 'RA', 'RAAS', 'RAAX', 'RACE', 'RAD', 'RAFE', 'RAMP', 'RATE', 'RAVI', 'RAYC', 'RAYD', 'RAYE', 'RBA', 'RBC', 'RBCP', 'RBLD', 'RBLX', 'RBND', 'RBOT', 'RBOT.W', 'RBT', 'RBT.W', 'RC', 'RC$C', 'RC$E', 'RCA', 'RCB', 'RCC', 'RCD', 'RCFA', 'RCFA.U', 'RCFA.W', 'RCG', 'RCI', 'RCL', 'RCS', 'RCUS', 'RDFI', 'RDIV', 'RDMX', 'RDN', 'RDOG', 'RDVI', 'RDW', 'RDW.W', 'RDY', 'RE', 'RECS', 'REET', 'REGL', 'REI', 'REK', 'RELX', 'REM', 'REMG', 'REMX', 'RENN', 'RENW', 'REPX', 'RERE', 'RES', 'RESD', 'RESE', 'RESI', 'RESP', 'RETL', 'REVG', 'REVS', 'REW', 'REX', 'REXR', 'REXR$B', 'REXR$C', 'REZ', 'REZI', 'RF', 'RF$B', 'RF$C', 'RF$E', 'RFCI', 'RFDA', 'RFFC', 'RFG', 'RFI', 'RFL', 'RFM', 'RFMZ', 'RFV', 'RGA', 'RGI', 'RGR', 'RGS', 'RGT', 'RH', 'RHCB', 'RHE', 'RHE$A', 'RHI', 'RHP', 'RHRX', 'RHS', 'RHTX', 'RIET', 'RIG', 'RIGS', 'RINF', 'RIO', 'RISN', 'RISR', 'RITA', 'RITM', 'RITM$A', 'RITM$B', 'RITM$C', 'RITM$D', 'RIV', 'RIV$A', 'RJAC', 'RJAC.U', 'RJF', 'RJF$A', 'RJF$B', 'RKT', 'RKTA', 'RKTA.U', 'RL', 'RLGT', 'RLI', 'RLJ', 'RLJ$A', 'RLTY', 'RLX', 'RLY', 'RM', 'RMAX', 'RMD', 'RMED', 'RMI', 'RMM', 'RMMZ', 'RMPL$', 'RMT', 'RNG', 'RNGR', 'RNP', 'RNR', 'RNR$F', 'RNR$G', 'RNWZ', 'ROAM', 'ROBO', 'ROCI', 'RODE', 'RODM', 'ROG', 'ROK', 'ROKT', 'ROL', 'ROM', 'ROMO', 'RONI', 'RONI.U', 'RONI.W', 'ROOF', 'ROP', 'RORO', 'ROSC', 'ROSS', 'ROSS.U', 'ROSS.W', 'ROUS', 'RPAR', 'RPG', 'RPHS', 'RPM', 'RPT', 'RPT$D', 'RPV', 'RQI', 'RRAC', 'RRAC.U', 'RRAC.W', 'RRC', 'RRH', 'RRX', 'RS', 'RSBT', 'RSEE', 'RSF', 'RSG', 'RSI', 'RSKD', 'RSP', 'RSPE', 'RSPY', 'RTAI', 'RTM', 'RTO', 'RTX', 'RTYD', 'RUFF', 'RULE', 'RVLV', 'RVNU', 'RVP', 'RVRB', 'RVT', 'RWJ', 'RWK', 'RWL', 'RWM', 'RWO', 'RWR', 'RWT', 'RWT$A', 'RWX', 'RXD', 'RXI', 'RXL', 'RXO', 'RY', 'RY$T', 'RYAM', 'RYAN', 'RYE', 'RYF', 'RYH', 'RYI', 'RYJ', 'RYLD', 'RYLG', 'RYN', 'RYSE', 'RYT', 'RYU', 'RZB', 'RZC', 'RZG', 'RZV', 'S', 'SA', 'SAA', 'SACC', 'SACH', 'SACH$A', 'SAEF', 'SAFE', 'SAGP', 'SAH', 'SAIC', 'SAJ', 'SAM', 'SAMT', 'SAN', 'SAND', 'SANE', 'SAP', 'SAR', 'SAT', 'SATO', 'SATX', 'SATX.A', 'SAVE', 'SAVN', 'SAY', 'SB', 'SB$C', 'SB$D', 'SBB', 'SBBA', 'SBEV', 'SBEV.W', 'SBH', 'SBI', 'SBIO', 'SBND', 'SBOW', 'SBR', 'SBS', 'SBSW', 'SBXC.U', 'SCC', 'SCCB', 'SCCC', 'SCCD', 'SCCE', 'SCCF', 'SCCG', 'SCCO', 'SCD', 'SCDL', 'SCE$G', 'SCE$H', 'SCE$J', 'SCE$K', 'SCE$L', 'SCHA', 'SCHB', 'SCHC', 'SCHD', 'SCHE', 'SCHF', 'SCHG', 'SCHH', 'SCHI', 'SCHJ', 'SCHK', 'SCHM', 'SCHO', 'SCHP', 'SCHQ', 'SCHR', 'SCHV', 'SCHW', 'SCHW$D', 'SCHW$J', 'SCHX', 'SCHY', 'SCHZ', 'SCI', 'SCJ', 'SCL', 'SCM', 'SCMB', 'SCO', 'SCRD', 'SCS', 'SCU', 'SCUA', 'SCUA.U', 'SCUA.W', 'SCX', 'SD', 'SDCI', 'SDD', 'SDEF', 'SDEI', 'SDEM', 'SDHY', 'SDIV', 'SDOG', 'SDOW', 'SDP', 'SDPI', 'SDRL', 'SDS', 'SDY', 'SE', 'SEA', 'SEAL$A', 'SEAL$B', 'SEAS', 'SEB', 'SECD', 'SECT', 'SEDA', 'SEDA.U', 'SEDA.W', 'SEE', 'SEF', 'SEIM', 'SEIQ', 'SEIV', 'SEIX', 'SELV', 'SEM', 'SEMI', 'SEMR', 'SENS', 'SENT', 'SEPZ', 'SES', 'SES.W', 'SESG', 'SF', 'SF$B', 'SF$C', 'SF$D', 'SFB', 'SFBS', 'SFIG', 'SFL', 'SFLR', 'SFY', 'SFYF', 'SFYX', 'SG', 'SGDJ', 'SGDM', 'SGFY', 'SGG', 'SGHC', 'SGOL', 'SGOV', 'SGU', 'SH', 'SHAG', 'SHAK', 'SHAP', 'SHAP.U', 'SHAP.W', 'SHDG', 'SHE', 'SHEL', 'SHG', 'SHM', 'SHNY', 'SHO', 'SHO$H', 'SHO$I', 'SHOC', 'SHOP', 'SHPP', 'SHPW', 'SHPW.W', 'SHUS', 'SHW', 'SHYD', 'SHYG', 'SHYL', 'SI', 'SI$A', 'SID', 'SIF', 'SIFI', 'SIG', 'SIHY', 'SII', 'SIJ', 'SIL', 'SILJ', 'SILV', 'SILX', 'SIM', 'SIMS', 'SIO', 'SIRE', 'SITC', 'SITC$A', 'SITE', 'SIVR', 'SIX', 'SIXA', 'SIXH', 'SIXJ', 'SIXL', 'SIXO', 'SIXS', 'SIZE', 'SJB', 'SJIM', 'SJM', 'SJNK', 'SJR', 'SJT', 'SJW', 'SKE', 'SKF', 'SKIL', 'SKIL.W', 'SKLZ', 'SKM', 'SKT', 'SKX', 'SKY', 'SKYH', 'SKYH.W', 'SLB', 'SLCA', 'SLF', 'SLG', 'SLG$I', 'SLGN', 'SLI', 'SLND', 'SLND.W', 'SLQT', 'SLV', 'SLVM', 'SLVP', 'SLX', 'SLY', 'SLYG', 'SLYV', 'SM', 'SMAR', 'SMB', 'SMDD', 'SMDV', 'SMDY', 'SMFG', 'SMG', 'SMHB', 'SMHI', 'SMI', 'SMIG', 'SMIN', 'SMLE', 'SMLF', 'SMLP', 'SMLV', 'SMMD', 'SMMU', 'SMMV', 'SMN', 'SMOG', 'SMOT', 'SMP', 'SMR', 'SMR.W', 'SMRT', 'SMWB', 'SNA', 'SNAP', 'SNDA', 'SNDR', 'SNMP', 'SNN', 'SNOW', 'SNPD', 'SNPE', 'SNPG', 'SNPV', 'SNV', 'SNV$D', 'SNV$E', 'SNX', 'SO', 'SOI', 'SOJC', 'SOJD', 'SOJE', 'SOL', 'SOLR', 'SON', 'SONX', 'SONY', 'SOR', 'SOS', 'SOXL', 'SOXS', 'SOYB', 'SPAB', 'SPAX', 'SPB', 'SPBO', 'SPCE', 'SPCZ', 'SPD', 'SPDN', 'SPDV', 'SPDW', 'SPE', 'SPE$C', 'SPEM', 'SPEU', 'SPFF', 'SPG', 'SPG$J', 'SPGI', 'SPGM', 'SPGP', 'SPH', 'SPHB', 'SPHD', 'SPHQ', 'SPHY', 'SPIB', 'SPIP', 'SPIR', 'SPKX', 'SPKY', 'SPLB', 'SPLG', 'SPLP', 'SPLP$A', 'SPLV', 'SPMB', 'SPMD', 'SPMO', 'SPMV', 'SPNT', 'SPNT$B', 'SPOT', 'SPPP', 'SPR', 'SPRE', 'SPRU', 'SPSB', 'SPSK', 'SPSM', 'SPTI', 'SPTL', 'SPTM', 'SPTS', 'SPUC', 'SPUS', 'SPUU', 'SPVM', 'SPVU', 'SPXB', 'SPXC', 'SPXE', 'SPXL', 'SPXN', 'SPXS', 'SPXT', 'SPXU', 'SPXV', 'SPXX', 'SPY', 'SPYC', 'SPYD', 'SPYG', 'SPYI', 'SPYV', 'SPYX', 'SQ', 'SQEW', 'SQM', 'SQNS', 'SQSP', 'SQZ', 'SR', 'SR$A', 'SRC', 'SRC$A', 'SRE', 'SREA', 'SRG', 'SRG$A', 'SRHQ', 'SRI', 'SRL', 'SRLN', 'SROI', 'SRS', 'SRT', 'SRTY', 'SRV', 'SRVR', 'SSD', 'SSFI', 'SSG', 'SSL', 'SSLY', 'SSO', 'SSPX', 'SSPY', 'SST', 'SST.W', 'SSTK', 'SSU', 'SSU.W', 'SSUS', 'SSXU', 'SSY', 'ST', 'STAG', 'STAR', 'STAR$D', 'STAR$G', 'STAR$I', 'STC', 'STCE', 'STE', 'STEM', 'STET', 'STET.U', 'STET.W', 'STEW', 'STG', 'STGF', 'STIP', 'STK', 'STLA', 'STLG', 'STLV', 'STM', 'STN', 'STNC', 'STNG', 'STOT', 'STPZ', 'STR', 'STR.W', 'STRE', 'STRE.U', 'STRE.W', 'STRV', 'STRW', 'STT', 'STT$D', 'STT$G', 'STVN', 'STWD', 'STXE', 'STXS', 'STZ', 'SU', 'SUAC', 'SUAC.U', 'SUAC.W', 'SUB', 'SUBS', 'SUI', 'SUM', 'SUN', 'SUNL', 'SUNL.W', 'SUP', 'SUPL', 'SUPP', 'SUPV', 'SURE', 'SURI', 'SUSA', 'SUZ', 'SVAL', 'SVIX', 'SVM', 'SVOL', 'SVT', 'SVXY', 'SWAN', 'SWAR', 'SWI', 'SWK', 'SWN', 'SWX', 'SWZ', 'SXC', 'SXI', 'SXQG', 'SXT', 'SXUS', 'SYF', 'SYF$A', 'SYII', 'SYK', 'SYLD', 'SYNB', 'SYUS', 'SYY', 'SZK', 'SZNE', 'T', 'T$A', 'T$C', 'TAC', 'TACK', 'TAFI', 'TAGG', 'TAGS', 'TAIL', 'TAK', 'TAL', 'TALO', 'TAN', 'TAP', 'TAP.A', 'TARO', 'TAXF', 'TBB', 'TBC', 'TBF', 'TBI', 'TBJL', 'TBT', 'TBUX', 'TBX', 'TCHP', 'TCI', 'TCN', 'TCOA', 'TCOA.U', 'TCOA.W', 'TCS', 'TD', 'TDC', 'TDCX', 'TDF', 'TDG', 'TDOC', 'TDS', 'TDS$U', 'TDS$V', 'TDTF', 'TDTT', 'TDV', 'TDVG', 'TDW', 'TDW.A', 'TDW.B', 'TDW.W', 'TDY', 'TEAF', 'TECB', 'TECK', 'TECL', 'TECS', 'TEF', 'TEI', 'TEL', 'TELL', 'TELZ', 'TEMP', 'TEO', 'TEQI', 'TEVA', 'TEX', 'TFC', 'TFC$I', 'TFC$O', 'TFC$R', 'TFI', 'TFII', 'TFJL', 'TFLO', 'TFLR', 'TFPM', 'TFSA', 'TFX', 'TG', 'TGB', 'TGH', 'TGH$A', 'TGH$B', 'TGI', 'TGIF', 'TGLS', 'TGN', 'TGNA', 'TGR', 'TGR.U', 'TGR.W', 'TGRW', 'TGS', 'TGT', 'THC', 'THCX', 'THD', 'THG', 'THLV', 'THM', 'THNQ', 'THO', 'THQ', 'THR', 'THS', 'THW', 'THY', 'THYF', 'TILL', 'TILT', 'TIMB', 'TIME', 'TINT', 'TINY', 'TIP', 'TIPD', 'TIPL', 'TIPX', 'TIPZ', 'TISI', 'TIXT', 'TJX', 'TK', 'TKAT', 'TKC', 'TKR', 'TLGA', 'TLGA.U', 'TLH', 'TLK', 'TLTD', 'TLTE', 'TLTW', 'TLYS', 'TM', 'TMAT', 'TMBR', 'TMDV', 'TME', 'TMF', 'TMFC', 'TMFE', 'TMFG', 'TMFM', 'TMFS', 'TMFX', 'TMHC', 'TMO', 'TMP', 'TMQ', 'TMST', 'TMV', 'TNA', 'TNC', 'TNET', 'TNK', 'TNL', 'TNP', 'TNP$D', 'TNP$E', 'TNP$F', 'TOK', 'TOKE', 'TOL', 'TOLZ', 'TOST', 'TOTL', 'TOTR', 'TOVX', 'TPB', 'TPC', 'TPH', 'TPHD', 'TPHE', 'TPHS', 'TPIF', 'TPL', 'TPLC', 'TPLE', 'TPMN', 'TPOR', 'TPR', 'TPSC', 'TPTA', 'TPVG', 'TPX', 'TPYP', 'TPZ', 'TR', 'TRAQ', 'TRAQ.U', 'TRAQ.W', 'TRC', 'TRCA', 'TRCA.U', 'TRCA.W', 'TREX', 'TRFK', 'TRFM', 'TRGP', 'TRI', 'TRIS', 'TRIS.U', 'TRIS.W', 'TRN', 'TRND', 'TRNO', 'TROX', 'TRP', 'TRPL', 'TRT', 'TRTL', 'TRTL.U', 'TRTL.W', 'TRTN', 'TRTN$A', 'TRTN$B', 'TRTN$C', 'TRTN$D', 'TRTN$E', 'TRTX', 'TRTX$C', 'TRTY', 'TRU', 'TRV', 'TRX', 'TS', 'TSE', 'TSI', 'TSJA', 'TSLH', 'TSLX', 'TSLY', 'TSM', 'TSME', 'TSN', 'TSOC', 'TSPA', 'TSQ', 'TT', 'TTAC', 'TTAI', 'TTC', 'TTE', 'TTI', 'TTP', 'TTT', 'TU', 'TUA', 'TUP', 'TUSI', 'TUYA', 'TV', 'TVC', 'TVE', 'TWI', 'TWIO', 'TWLO', 'TWM', 'TWN', 'TWNI', 'TWNI.U', 'TWO', 'TWO$A', 'TWO$B', 'TWO$C', 'TWOA', 'TX', 'TXO', 'TXT', 'TY', 'TY$', 'TYA', 'TYD', 'TYG', 'TYL', 'TYLG', 'TYO', 'TZA', 'U', 'UA', 'UAA', 'UAMY', 'UAN', 'UAPR', 'UAUG', 'UAV', 'UAVS', 'UBA', 'UBER', 'UBOT', 'UBP', 'UBP$H', 'UBP$K', 'UBR', 'UBS', 'UBT', 'UCC', 'UCIB', 'UCO', 'UCON', 'UDEC', 'UDI', 'UDIV', 'UDN', 'UDOW', 'UDR', 'UE', 'UEC', 'UFAB', 'UFEB', 'UFI', 'UGA', 'UGE', 'UGI', 'UGIC', 'UGL', 'UGP', 'UHAL', 'UHAL.B', 'UHS', 'UHT', 'UI', 'UIS', 'UJAN', 'UJB', 'UJUL', 'UJUN', 'UL', 'ULE', 'ULST', 'ULTR', 'UMAR', 'UMAY', 'UMC', 'UMDD', 'UMH', 'UMH$D', 'UMI', 'UNF', 'UNFI', 'UNG', 'UNH', 'UNL', 'UNM', 'UNMA', 'UNOV', 'UNP', 'UNVR', 'UOCT', 'UP', 'UP.W', 'UPAR', 'UPH', 'UPH.W', 'UPRO', 'UPS', 'UPV', 'UPW', 'URA', 'URE', 'URG', 'URI', 'URNM', 'URTH', 'URTY', 'USA', 'USAC', 'USAI', 'USAS', 'USB', 'USB$A', 'USB$H', 'USB$P', 'USB$Q', 'USB$R', 'USB$S', 'USCI', 'USD', 'USDP', 'USDU', 'USEP', 'USEQ', 'USFD', 'USFR', 'USHY', 'USL', 'USM', 'USMF', 'USML', 'USMV', 'USNA', 'USNZ', 'USO', 'USPH', 'USPX', 'USRT', 'USSG', 'UST', 'USVT', 'USX', 'UTES', 'UTF', 'UTG', 'UTI', 'UTL', 'UTRN', 'UTSL', 'UTZ', 'UUP', 'UUU', 'UUUU', 'UVDV', 'UVE', 'UVIX', 'UVV', 'UVXY', 'UWM', 'UWMC', 'UWMC.W', 'UXI', 'UYG', 'UYLD', 'UYM', 'UZD', 'UZE', 'UZF', 'V', 'VABS', 'VAC', 'VAL', 'VAL.W', 'VALE', 'VALQ', 'VALT', 'VAMO', 'VAPO', 'VATE', 'VAW', 'VB', 'VBF', 'VBK', 'VBND', 'VBR', 'VCAR', 'VCEB', 'VCIF', 'VCLN', 'VCLO', 'VCR', 'VCV', 'VCXB', 'VCXB.U', 'VCXB.W', 'VDC', 'VDE', 'VDNI', 'VEA', 'VEEV', 'VEGA', 'VEGI', 'VEGN', 'VEL', 'VEMY', 'VERS', 'VET', 'VEU', 'VFC', 'VFH', 'VFL', 'VFMF', 'VFMO', 'VFMV', 'VFQY', 'VFVA', 'VGI', 'VGK', 'VGM', 'VGR', 'VGT', 'VGZ', 'VHAQ', 'VHAQ.R', 'VHAQ.U', 'VHAQ.W', 'VHC', 'VHI', 'VHT', 'VIAO', 'VICE', 'VICI', 'VIDI', 'VIG', 'VINE', 'VIOG', 'VIOO', 'VIOV', 'VIPS', 'VIRS', 'VIS', 'VIST', 'VIV', 'VIXM', 'VIXY', 'VKI', 'VKQ', 'VLD', 'VLD.W', 'VLN', 'VLN.W', 'VLO', 'VLRS', 'VLT', 'VLTA', 'VLTA.W', 'VLU', 'VLUE', 'VMAT', 'VMC', 'VMI', 'VMO', 'VMOT', 'VMW', 'VNAM', 'VNCE', 'VNLA', 'VNM', 'VNMC', 'VNO', 'VNO$L', 'VNO$M', 'VNO$N', 'VNO$O', 'VNQ', 'VNRX', 'VNSE', 'VNT', 'VNTR', 'VO', 'VOC', 'VOE', 'VOO', 'VOOG', 'VOOV', 'VOT', 'VOTE', 'VOX', 'VOYA', 'VOYA$B', 'VPC', 'VPG', 'VPL', 'VPU', 'VPV', 'VRAI', 'VRE', 'VRP', 'VRT', 'VRTV', 'VSCO', 'VSGX', 'VSH', 'VSLU', 'VSS', 'VST', 'VST.A', 'VSTO', 'VT', 'VTEB', 'VTEX', 'VTI', 'VTLE', 'VTN', 'VTOL', 'VTR', 'VTS', 'VTV', 'VUG', 'VUSB', 'VUSE', 'VV', 'VVI', 'VVNT', 'VVR', 'VVV', 'VVX', 'VWID', 'VWO', 'VXF', 'VXX', 'VXZ', 'VYM', 'VZ', 'VZIO', 'VZLA', 'W', 'WAB', 'WAL', 'WAL$A', 'WANT', 'WAT', 'WAVC', 'WAVC.U', 'WAVC.W', 'WBAT', 'WBIF', 'WBIG', 'WBIL', 'WBIY', 'WBS', 'WBS$F', 'WBS$G', 'WBX', 'WBX.W', 'WCC', 'WCC$A', 'WCEO', 'WCN', 'WD', 'WDH', 'WDI', 'WDIV', 'WDNA', 'WDS', 'WE', 'WE.W', 'WEA', 'WEAT', 'WEAV', 'WEBL', 'WEBS', 'WEC', 'WEED', 'WEIX', 'WEL', 'WEL.U', 'WEL.W', 'WELL', 'WES', 'WEX', 'WF', 'WFC', 'WFC$A', 'WFC$C', 'WFC$D', 'WFC$L', 'WFC$Q', 'WFC$R', 'WFC$Y', 'WFC$Z', 'WFG', 'WFH', 'WFHY', 'WFIG', 'WGO', 'WH', 'WHD', 'WHG', 'WHR', 'WIA', 'WINN', 'WIP', 'WIT', 'WIW', 'WK', 'WKLY', 'WLDR', 'WLK', 'WLKP', 'WLMS', 'WLTG', 'WLTH', 'WLY', 'WLYB', 'WM', 'WMB', 'WMC', 'WMK', 'WMS', 'WMT', 'WNC', 'WNNR', 'WNNR.U', 'WNNR.W', 'WNS', 'WOLF', 'WOMN', 'WOR', 'WOW', 'WPC', 'WPCA', 'WPCA.U', 'WPCB', 'WPCB.U', 'WPM', 'WPP', 'WPS', 'WRAC', 'WRAC.U', 'WRAC.W', 'WRB', 'WRB$E', 'WRB$F', 'WRB$G', 'WRB$H', 'WRBY', 'WRK', 'WRN', 'WSM', 'WSO', 'WSO.B', 'WSR', 'WST', 'WT', 'WTAI', 'WTI', 'WTID', 'WTIU', 'WTM', 'WTMF', 'WTRE', 'WTRG', 'WTS', 'WTT', 'WTTR', 'WTV', 'WU', 'WUGI', 'WWE', 'WWJD', 'WWR', 'WWW', 'WY', 'WYY', 'X', 'XAR', 'XB', 'XBAP', 'XBB', 'XBI', 'XBJA', 'XBJL', 'XBOC', 'XBTF', 'XC', 'XCCC', 'XCEM', 'XCLR', 'XCOR', 'XDAP', 'XDAT', 'XDEC', 'XDJA', 'XDJL', 'XDOC', 'XDQQ', 'XDSQ', 'XEMD', 'XES', 'XFIV', 'XFLT', 'XFLT$A', 'XHB', 'XHE', 'XHLF', 'XHR', 'XHS', 'XHYC', 'XHYD', 'XHYE', 'XHYF', 'XHYH', 'XHYI', 'XHYT', 'XIN', 'XITK', 'XJH', 'XJR', 'XJUN', 'XLB', 'XLC', 'XLE', 'XLF', 'XLG', 'XLI', 'XLK', 'XLP', 'XLRE', 'XLSR', 'XLU', 'XLV', 'XLY', 'XME', 'XMHQ', 'XMLV', 'XMMO', 'XMPT', 'XMVM', 'XNAV', 'XNTK', 'XOM', 'XONE', 'XOP', 'XOUT', 'XPER', 'XPEV', 'XPH', 'XPL', 'XPND', 'XPO', 'XPOF', 'XPP', 'XPRO', 'XRLV', 'XRMI', 'XRT', 'XSD', 'XSEP', 'XSHD', 'XSHQ', 'XSLV', 'XSMO', 'XSOE', 'XSVM', 'XSVN', 'XSW', 'XTAP', 'XTEN', 'XTJA', 'XTJL', 'XTL', 'XTN', 'XTNT', 'XTOC', 'XTR', 'XTRE', 'XTWO', 'XTWY', 'XUSP', 'XVOL', 'XVV', 'XWEB', 'XYF', 'XYL', 'XYLD', 'XYLE', 'XYLG', 'YALA', 'YALL', 'YANG', 'YCBD', 'YCBD$A', 'YCL', 'YCS', 'YDEC', 'YEAR', 'YELP', 'YETI', 'YEXT', 'YINN', 'YJUN', 'YLD', 'YMAR', 'YMM', 'YOLO', 'YOU', 'YPF', 'YPS', 'YRD', 'YSEP', 'YSG', 'YTPG', 'YUM', 'YUMC', 'YUMY', 'YXI', 'YYY', 'ZBH', 'ZBZX', 'ZDGE', 'ZECP', 'ZEPP', 'ZETA', 'ZEV', 'ZEV.W', 'ZEXIT', 'ZGN', 'ZH', 'ZHDG', 'ZIEXT', 'ZIG', 'ZIM', 'ZIP', 'ZOM', 'ZROZ', 'ZSB', 'ZSL', 'ZSPY', 'ZTEST', 'ZTO', 'ZTR', 'ZTS', 'ZUO', 'ZVIA', 'ZVV', 'ZWS', 'ZXIET', '']\n"
     ]
    }
   ],
   "source": [
    "import yahoo_fin.stock_info as si\n",
    "dow = si.tickers_other()\n",
    "print(dow)"
   ]
  }
 ],
 "metadata": {
  "kernelspec": {
   "display_name": "Python 3",
   "language": "python",
   "name": "python3"
  },
  "language_info": {
   "codemirror_mode": {
    "name": "ipython",
    "version": 3
   },
   "file_extension": ".py",
   "mimetype": "text/x-python",
   "name": "python",
   "nbconvert_exporter": "python",
   "pygments_lexer": "ipython3",
   "version": "3.10.7"
  },
  "orig_nbformat": 4,
  "vscode": {
   "interpreter": {
    "hash": "fb4569285eef3a3450cb62085a5b1e0da4bce0af555edc33dcf29baf3acc1368"
   }
  }
 },
 "nbformat": 4,
 "nbformat_minor": 2
}
